{
 "cells": [
  {
   "cell_type": "code",
   "execution_count": 1,
   "id": "9c379dd4",
   "metadata": {},
   "outputs": [],
   "source": [
    "import pandas as pd"
   ]
  },
  {
   "cell_type": "code",
   "execution_count": 2,
   "id": "cc586a86",
   "metadata": {},
   "outputs": [],
   "source": [
    "fatal_df = pd.read_csv(r\"C:\\Users\\Gaming PC\\Desktop\\Police-Crime-Rates-vs-City-Budgets\\Resources\\fatal_encounters_dot_org.csv\")"
   ]
  },
  {
   "cell_type": "code",
   "execution_count": 3,
   "id": "fd0a254f",
   "metadata": {},
   "outputs": [
    {
     "data": {
      "text/html": [
       "<div>\n",
       "<style scoped>\n",
       "    .dataframe tbody tr th:only-of-type {\n",
       "        vertical-align: middle;\n",
       "    }\n",
       "\n",
       "    .dataframe tbody tr th {\n",
       "        vertical-align: top;\n",
       "    }\n",
       "\n",
       "    .dataframe thead th {\n",
       "        text-align: right;\n",
       "    }\n",
       "</style>\n",
       "<table border=\"1\" class=\"dataframe\">\n",
       "  <thead>\n",
       "    <tr style=\"text-align: right;\">\n",
       "      <th></th>\n",
       "      <th>Unique ID</th>\n",
       "      <th>Subject's name</th>\n",
       "      <th>Subject's age</th>\n",
       "      <th>Subject's gender</th>\n",
       "      <th>Subject's race</th>\n",
       "      <th>Subject's race with imputations</th>\n",
       "      <th>Imputation probability</th>\n",
       "      <th>URL of image of deceased</th>\n",
       "      <th>Date of injury resulting in death (month/day/year)</th>\n",
       "      <th>Location of injury (address)</th>\n",
       "      <th>...</th>\n",
       "      <th>A brief description of the circumstances surrounding the death</th>\n",
       "      <th>Dispositions/Exclusions INTERNAL USE, NOT FOR ANALYSIS</th>\n",
       "      <th>Intentional Use of Force (Developing)</th>\n",
       "      <th>Link to news article or photo of official document</th>\n",
       "      <th>Symptoms of mental illness? INTERNAL USE, NOT FOR ANALYSIS</th>\n",
       "      <th>Video</th>\n",
       "      <th>Date&amp;Description</th>\n",
       "      <th>Unique ID formula</th>\n",
       "      <th>Unique identifier (redundant)</th>\n",
       "      <th>Date (Year)</th>\n",
       "    </tr>\n",
       "  </thead>\n",
       "  <tbody>\n",
       "    <tr>\n",
       "      <th>0</th>\n",
       "      <td>25746.0</td>\n",
       "      <td>Samuel H. Knapp</td>\n",
       "      <td>17</td>\n",
       "      <td>Male</td>\n",
       "      <td>European-American/White</td>\n",
       "      <td>European-American/White</td>\n",
       "      <td>Not imputed</td>\n",
       "      <td>NaN</td>\n",
       "      <td>1/1/2000</td>\n",
       "      <td>27898-27804 US-101</td>\n",
       "      <td>...</td>\n",
       "      <td>Samuel Knapp was allegedly driving a stolen ve...</td>\n",
       "      <td>Unreported</td>\n",
       "      <td>Pursuit</td>\n",
       "      <td>https://drive.google.com/file/d/10DisrV8K5ReP1...</td>\n",
       "      <td>No</td>\n",
       "      <td>NaN</td>\n",
       "      <td>1/1/2000: Samuel Knapp was allegedly driving a...</td>\n",
       "      <td>NaN</td>\n",
       "      <td>25746.0</td>\n",
       "      <td>2000</td>\n",
       "    </tr>\n",
       "  </tbody>\n",
       "</table>\n",
       "<p>1 rows × 29 columns</p>\n",
       "</div>"
      ],
      "text/plain": [
       "   Unique ID   Subject's name Subject's age Subject's gender  \\\n",
       "0    25746.0  Samuel H. Knapp            17             Male   \n",
       "\n",
       "            Subject's race Subject's race with imputations  \\\n",
       "0  European-American/White         European-American/White   \n",
       "\n",
       "  Imputation probability URL of image of deceased  \\\n",
       "0            Not imputed                      NaN   \n",
       "\n",
       "  Date of injury resulting in death (month/day/year)  \\\n",
       "0                                           1/1/2000   \n",
       "\n",
       "  Location of injury (address)  ...  \\\n",
       "0           27898-27804 US-101  ...   \n",
       "\n",
       "  A brief description of the circumstances surrounding the death  \\\n",
       "0  Samuel Knapp was allegedly driving a stolen ve...               \n",
       "\n",
       "  Dispositions/Exclusions INTERNAL USE, NOT FOR ANALYSIS  \\\n",
       "0                                         Unreported       \n",
       "\n",
       "   Intentional Use of Force (Developing)  \\\n",
       "0                                Pursuit   \n",
       "\n",
       "  Link to news article or photo of official document  \\\n",
       "0  https://drive.google.com/file/d/10DisrV8K5ReP1...   \n",
       "\n",
       "  Symptoms of mental illness? INTERNAL USE, NOT FOR ANALYSIS  Video  \\\n",
       "0                                                 No            NaN   \n",
       "\n",
       "                                    Date&Description Unique ID formula  \\\n",
       "0  1/1/2000: Samuel Knapp was allegedly driving a...               NaN   \n",
       "\n",
       "  Unique identifier (redundant) Date (Year)  \n",
       "0                       25746.0        2000  \n",
       "\n",
       "[1 rows x 29 columns]"
      ]
     },
     "execution_count": 3,
     "metadata": {},
     "output_type": "execute_result"
    }
   ],
   "source": [
    "fatal_df.head(1)"
   ]
  },
  {
   "cell_type": "code",
   "execution_count": 17,
   "id": "1fb7fd87",
   "metadata": {},
   "outputs": [],
   "source": [
    "fatal_df.drop(fatal_df.columns[[0,1]], axis=1,inplace=True)"
   ]
  },
  {
   "cell_type": "code",
   "execution_count": null,
   "id": "2236b2fc",
   "metadata": {},
   "outputs": [],
   "source": []
  },
  {
   "cell_type": "code",
   "execution_count": null,
   "id": "8ec54db1",
   "metadata": {},
   "outputs": [],
   "source": []
  },
  {
   "cell_type": "code",
   "execution_count": null,
   "id": "4ca1b98a",
   "metadata": {},
   "outputs": [],
   "source": []
  },
  {
   "cell_type": "code",
   "execution_count": null,
   "id": "42a41f97",
   "metadata": {},
   "outputs": [],
   "source": []
  }
 ],
 "metadata": {
  "kernelspec": {
   "display_name": "PythonData",
   "language": "python",
   "name": "pythondata"
  },
  "language_info": {
   "codemirror_mode": {
    "name": "ipython",
    "version": 3
   },
   "file_extension": ".py",
   "mimetype": "text/x-python",
   "name": "python",
   "nbconvert_exporter": "python",
   "pygments_lexer": "ipython3",
   "version": "3.9.7"
  }
 },
 "nbformat": 4,
 "nbformat_minor": 5
}
