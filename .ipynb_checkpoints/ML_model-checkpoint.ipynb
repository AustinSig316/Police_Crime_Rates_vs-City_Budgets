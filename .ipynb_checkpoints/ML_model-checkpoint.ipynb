{
 "cells": [
  {
   "cell_type": "code",
   "execution_count": 10,
   "id": "2c4b24de",
   "metadata": {},
   "outputs": [],
   "source": [
    "import pandas as pd\n",
    "from pathlib import Path\n",
    "import matplotlib.pyplot as plt\n",
    "from sklearn.linear_model import LinearRegression"
   ]
  },
  {
   "cell_type": "code",
   "execution_count": null,
   "id": "ffff5d41",
   "metadata": {},
   "outputs": [],
   "source": [
    "#import the data\n",
    "data = pd.read_csv(\"Resources/state_totals.csv\")\n",
    "data.head()"
   ]
  },
  {
   "cell_type": "code",
   "execution_count": null,
   "id": "8d7d3126",
   "metadata": {},
   "outputs": [],
   "source": [
    "#process state poverty rates - classes"
   ]
  },
  {
   "cell_type": "code",
   "execution_count": null,
   "id": "b8af8aee",
   "metadata": {},
   "outputs": [],
   "source": [
    "#plot the data\n",
    "plt.scatter(data.police_spending_per_capita, data.crime_count)\n",
    "plt.xlabel('Police Spending Per Capita')\n",
    "plt.ylabel('Crime Per Capita')\n",
    "plt.show()"
   ]
  },
  {
   "cell_type": "code",
   "execution_count": null,
   "id": "c7d0cc57",
   "metadata": {},
   "outputs": [],
   "source": [
    "#ML Model\n",
    "X = data.police_spending_per_capita.values.reshape(-1,1)\n",
    "y = data.crime_count\n",
    "reg = LinearRegression().fit(X, y)\n",
    "reg.score(X, y)"
   ]
  },
  {
   "cell_type": "code",
   "execution_count": null,
   "id": "53def044",
   "metadata": {},
   "outputs": [],
   "source": [
    "y_pred = model.predict(X)\n",
    "print(y_pred.shape)"
   ]
  },
  {
   "cell_type": "code",
   "execution_count": null,
   "id": "f6141a41",
   "metadata": {},
   "outputs": [],
   "source": [
    "#plot ML model vs data\n",
    "plt.scatter(X, y)\n",
    "plt.plot(X, y_pred, color=\"red\")\n",
    "plt.show()"
   ]
  },
  {
   "cell_type": "code",
   "execution_count": null,
   "id": "4e793750",
   "metadata": {},
   "outputs": [],
   "source": []
  }
 ],
 "metadata": {
  "kernelspec": {
   "display_name": "mlenv",
   "language": "python",
   "name": "mlenv"
  },
  "language_info": {
   "codemirror_mode": {
    "name": "ipython",
    "version": 3
   },
   "file_extension": ".py",
   "mimetype": "text/x-python",
   "name": "python",
   "nbconvert_exporter": "python",
   "pygments_lexer": "ipython3",
   "version": "3.7.11"
  }
 },
 "nbformat": 4,
 "nbformat_minor": 5
}
