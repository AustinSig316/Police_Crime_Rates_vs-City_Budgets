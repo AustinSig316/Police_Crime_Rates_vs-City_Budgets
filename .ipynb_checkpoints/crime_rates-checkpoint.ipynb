{
 "cells": [
  {
   "cell_type": "code",
   "execution_count": 1,
   "id": "a1dbf46f",
   "metadata": {},
   "outputs": [],
   "source": [
    "import pandas as pd\n",
    "import matplotlib.pyplot as plt\n",
    "import gmaps \n",
    "import gmaps.datasets "
   ]
  },
  {
   "cell_type": "code",
   "execution_count": 2,
   "id": "c4934e03",
   "metadata": {},
   "outputs": [
    {
     "data": {
      "text/html": [
       "<div>\n",
       "<style scoped>\n",
       "    .dataframe tbody tr th:only-of-type {\n",
       "        vertical-align: middle;\n",
       "    }\n",
       "\n",
       "    .dataframe tbody tr th {\n",
       "        vertical-align: top;\n",
       "    }\n",
       "\n",
       "    .dataframe thead th {\n",
       "        text-align: right;\n",
       "    }\n",
       "</style>\n",
       "<table border=\"1\" class=\"dataframe\">\n",
       "  <thead>\n",
       "    <tr style=\"text-align: right;\">\n",
       "      <th></th>\n",
       "      <th>Unique ID</th>\n",
       "      <th>Name</th>\n",
       "      <th>Age</th>\n",
       "      <th>Gender</th>\n",
       "      <th>Race</th>\n",
       "      <th>Ethnicity</th>\n",
       "      <th>Imputation probability</th>\n",
       "      <th>URL of image of deceased</th>\n",
       "      <th>Date of injury resulting in death (month/day/year)</th>\n",
       "      <th>Location of injury (address)</th>\n",
       "      <th>...</th>\n",
       "      <th>A brief description of the circumstances surrounding the death</th>\n",
       "      <th>Dispositions/Exclusions INTERNAL USE, NOT FOR ANALYSIS</th>\n",
       "      <th>Intentional Use of Force (Developing)</th>\n",
       "      <th>Link to news article or photo of official document</th>\n",
       "      <th>Symptoms of mental illness? INTERNAL USE, NOT FOR ANALYSIS</th>\n",
       "      <th>Video</th>\n",
       "      <th>Date&amp;Description</th>\n",
       "      <th>Unique ID formula</th>\n",
       "      <th>Unique identifier (redundant)</th>\n",
       "      <th>Date (Year)</th>\n",
       "    </tr>\n",
       "  </thead>\n",
       "  <tbody>\n",
       "    <tr>\n",
       "      <th>0</th>\n",
       "      <td>25746.0</td>\n",
       "      <td>Samuel H. Knapp</td>\n",
       "      <td>17</td>\n",
       "      <td>Male</td>\n",
       "      <td>European-American/White</td>\n",
       "      <td>European-American/White</td>\n",
       "      <td>Not imputed</td>\n",
       "      <td>NaN</td>\n",
       "      <td>1/1/2000</td>\n",
       "      <td>27898-27804 US-101</td>\n",
       "      <td>...</td>\n",
       "      <td>Samuel Knapp was allegedly driving a stolen ve...</td>\n",
       "      <td>Unreported</td>\n",
       "      <td>Pursuit</td>\n",
       "      <td>https://drive.google.com/file/d/10DisrV8K5ReP1...</td>\n",
       "      <td>No</td>\n",
       "      <td>NaN</td>\n",
       "      <td>1/1/2000: Samuel Knapp was allegedly driving a...</td>\n",
       "      <td>NaN</td>\n",
       "      <td>25746.0</td>\n",
       "      <td>2000</td>\n",
       "    </tr>\n",
       "    <tr>\n",
       "      <th>1</th>\n",
       "      <td>25747.0</td>\n",
       "      <td>Mark A. Horton</td>\n",
       "      <td>21</td>\n",
       "      <td>Male</td>\n",
       "      <td>African-American/Black</td>\n",
       "      <td>African-American/Black</td>\n",
       "      <td>Not imputed</td>\n",
       "      <td>NaN</td>\n",
       "      <td>1/1/2000</td>\n",
       "      <td>Davison Freeway</td>\n",
       "      <td>...</td>\n",
       "      <td>Two Detroit men killed when their car crashed ...</td>\n",
       "      <td>Unreported</td>\n",
       "      <td>Pursuit</td>\n",
       "      <td>https://drive.google.com/file/d/1-nK-RohgiM-tZ...</td>\n",
       "      <td>No</td>\n",
       "      <td>NaN</td>\n",
       "      <td>1/1/2000: Two Detroit men killed when their ca...</td>\n",
       "      <td>NaN</td>\n",
       "      <td>25747.0</td>\n",
       "      <td>2000</td>\n",
       "    </tr>\n",
       "    <tr>\n",
       "      <th>2</th>\n",
       "      <td>25748.0</td>\n",
       "      <td>Phillip A. Blurbridge</td>\n",
       "      <td>19</td>\n",
       "      <td>Male</td>\n",
       "      <td>African-American/Black</td>\n",
       "      <td>African-American/Black</td>\n",
       "      <td>Not imputed</td>\n",
       "      <td>NaN</td>\n",
       "      <td>1/1/2000</td>\n",
       "      <td>Davison Freeway</td>\n",
       "      <td>...</td>\n",
       "      <td>Two Detroit men killed when their car crashed ...</td>\n",
       "      <td>Unreported</td>\n",
       "      <td>Pursuit</td>\n",
       "      <td>https://drive.google.com/file/d/1-nK-RohgiM-tZ...</td>\n",
       "      <td>No</td>\n",
       "      <td>NaN</td>\n",
       "      <td>1/1/2000: Two Detroit men killed when their ca...</td>\n",
       "      <td>NaN</td>\n",
       "      <td>25748.0</td>\n",
       "      <td>2000</td>\n",
       "    </tr>\n",
       "    <tr>\n",
       "      <th>3</th>\n",
       "      <td>25749.0</td>\n",
       "      <td>Mark Ortiz</td>\n",
       "      <td>23</td>\n",
       "      <td>Male</td>\n",
       "      <td>Hispanic/Latino</td>\n",
       "      <td>Hispanic/Latino</td>\n",
       "      <td>Not imputed</td>\n",
       "      <td>NaN</td>\n",
       "      <td>1/1/2000</td>\n",
       "      <td>600 W Cherry Ln</td>\n",
       "      <td>...</td>\n",
       "      <td>A motorcycle was allegedly being driven errati...</td>\n",
       "      <td>Unreported</td>\n",
       "      <td>Pursuit</td>\n",
       "      <td>https://drive.google.com/file/d/1qAEefRjX_aTtC...</td>\n",
       "      <td>No</td>\n",
       "      <td>NaN</td>\n",
       "      <td>1/1/2000: A motorcycle was allegedly being dri...</td>\n",
       "      <td>NaN</td>\n",
       "      <td>25749.0</td>\n",
       "      <td>2000</td>\n",
       "    </tr>\n",
       "    <tr>\n",
       "      <th>4</th>\n",
       "      <td>1.0</td>\n",
       "      <td>LaTanya Janelle McCoy</td>\n",
       "      <td>24</td>\n",
       "      <td>Female</td>\n",
       "      <td>African-American/Black</td>\n",
       "      <td>African-American/Black</td>\n",
       "      <td>Not imputed</td>\n",
       "      <td>NaN</td>\n",
       "      <td>1/2/2000</td>\n",
       "      <td>5700 block Mack Road</td>\n",
       "      <td>...</td>\n",
       "      <td>LaTanya Janelle McCoy's car was struck from be...</td>\n",
       "      <td>Unknown</td>\n",
       "      <td>Pursuit</td>\n",
       "      <td>http://www.recordnet.com/article/20000110/A_NE...</td>\n",
       "      <td>No</td>\n",
       "      <td>NaN</td>\n",
       "      <td>1/2/2000: LaTanya Janelle McCoy's car was stru...</td>\n",
       "      <td>NaN</td>\n",
       "      <td>1.0</td>\n",
       "      <td>2000</td>\n",
       "    </tr>\n",
       "  </tbody>\n",
       "</table>\n",
       "<p>5 rows × 29 columns</p>\n",
       "</div>"
      ],
      "text/plain": [
       "   Unique ID                   Name Age  Gender                     Race  \\\n",
       "0    25746.0        Samuel H. Knapp  17    Male  European-American/White   \n",
       "1    25747.0         Mark A. Horton  21    Male   African-American/Black   \n",
       "2    25748.0  Phillip A. Blurbridge  19    Male   African-American/Black   \n",
       "3    25749.0             Mark Ortiz  23    Male          Hispanic/Latino   \n",
       "4        1.0  LaTanya Janelle McCoy  24  Female   African-American/Black   \n",
       "\n",
       "                 Ethnicity Imputation probability URL of image of deceased  \\\n",
       "0  European-American/White            Not imputed                      NaN   \n",
       "1   African-American/Black            Not imputed                      NaN   \n",
       "2   African-American/Black            Not imputed                      NaN   \n",
       "3          Hispanic/Latino            Not imputed                      NaN   \n",
       "4   African-American/Black            Not imputed                      NaN   \n",
       "\n",
       "  Date of injury resulting in death (month/day/year)  \\\n",
       "0                                           1/1/2000   \n",
       "1                                           1/1/2000   \n",
       "2                                           1/1/2000   \n",
       "3                                           1/1/2000   \n",
       "4                                           1/2/2000   \n",
       "\n",
       "  Location of injury (address)  ...  \\\n",
       "0           27898-27804 US-101  ...   \n",
       "1              Davison Freeway  ...   \n",
       "2              Davison Freeway  ...   \n",
       "3              600 W Cherry Ln  ...   \n",
       "4         5700 block Mack Road  ...   \n",
       "\n",
       "  A brief description of the circumstances surrounding the death  \\\n",
       "0  Samuel Knapp was allegedly driving a stolen ve...               \n",
       "1  Two Detroit men killed when their car crashed ...               \n",
       "2  Two Detroit men killed when their car crashed ...               \n",
       "3  A motorcycle was allegedly being driven errati...               \n",
       "4  LaTanya Janelle McCoy's car was struck from be...               \n",
       "\n",
       "  Dispositions/Exclusions INTERNAL USE, NOT FOR ANALYSIS  \\\n",
       "0                                         Unreported       \n",
       "1                                         Unreported       \n",
       "2                                         Unreported       \n",
       "3                                         Unreported       \n",
       "4                                            Unknown       \n",
       "\n",
       "   Intentional Use of Force (Developing)  \\\n",
       "0                                Pursuit   \n",
       "1                                Pursuit   \n",
       "2                                Pursuit   \n",
       "3                                Pursuit   \n",
       "4                                Pursuit   \n",
       "\n",
       "  Link to news article or photo of official document  \\\n",
       "0  https://drive.google.com/file/d/10DisrV8K5ReP1...   \n",
       "1  https://drive.google.com/file/d/1-nK-RohgiM-tZ...   \n",
       "2  https://drive.google.com/file/d/1-nK-RohgiM-tZ...   \n",
       "3  https://drive.google.com/file/d/1qAEefRjX_aTtC...   \n",
       "4  http://www.recordnet.com/article/20000110/A_NE...   \n",
       "\n",
       "  Symptoms of mental illness? INTERNAL USE, NOT FOR ANALYSIS  Video  \\\n",
       "0                                                 No            NaN   \n",
       "1                                                 No            NaN   \n",
       "2                                                 No            NaN   \n",
       "3                                                 No            NaN   \n",
       "4                                                 No            NaN   \n",
       "\n",
       "                                    Date&Description Unique ID formula  \\\n",
       "0  1/1/2000: Samuel Knapp was allegedly driving a...               NaN   \n",
       "1  1/1/2000: Two Detroit men killed when their ca...               NaN   \n",
       "2  1/1/2000: Two Detroit men killed when their ca...               NaN   \n",
       "3  1/1/2000: A motorcycle was allegedly being dri...               NaN   \n",
       "4  1/2/2000: LaTanya Janelle McCoy's car was stru...               NaN   \n",
       "\n",
       "  Unique identifier (redundant) Date (Year)  \n",
       "0                       25746.0        2000  \n",
       "1                       25747.0        2000  \n",
       "2                       25748.0        2000  \n",
       "3                       25749.0        2000  \n",
       "4                           1.0        2000  \n",
       "\n",
       "[5 rows x 29 columns]"
      ]
     },
     "execution_count": 2,
     "metadata": {},
     "output_type": "execute_result"
    }
   ],
   "source": [
    "crime_df = pd.read_csv('Resources/crime_rates.csv')\n",
    "crime_df.head()"
   ]
  },
  {
   "cell_type": "code",
   "execution_count": 3,
   "id": "33f5db05",
   "metadata": {},
   "outputs": [
    {
     "data": {
      "text/html": [
       "<div>\n",
       "<style scoped>\n",
       "    .dataframe tbody tr th:only-of-type {\n",
       "        vertical-align: middle;\n",
       "    }\n",
       "\n",
       "    .dataframe tbody tr th {\n",
       "        vertical-align: top;\n",
       "    }\n",
       "\n",
       "    .dataframe thead th {\n",
       "        text-align: right;\n",
       "    }\n",
       "</style>\n",
       "<table border=\"1\" class=\"dataframe\">\n",
       "  <thead>\n",
       "    <tr style=\"text-align: right;\">\n",
       "      <th></th>\n",
       "      <th>Age</th>\n",
       "      <th>Gender</th>\n",
       "      <th>Ethnicity</th>\n",
       "      <th>Location of death (city)</th>\n",
       "      <th>Location of death (state)</th>\n",
       "      <th>Latitude</th>\n",
       "      <th>Longitude</th>\n",
       "      <th>Agency responsible for death</th>\n",
       "      <th>Cause of death</th>\n",
       "      <th>A brief description of the circumstances surrounding the death</th>\n",
       "      <th>Dispositions/Exclusions INTERNAL USE, NOT FOR ANALYSIS</th>\n",
       "      <th>Intentional Use of Force (Developing)</th>\n",
       "      <th>Symptoms of mental illness? INTERNAL USE, NOT FOR ANALYSIS</th>\n",
       "      <th>Date (Year)</th>\n",
       "    </tr>\n",
       "  </thead>\n",
       "  <tbody>\n",
       "    <tr>\n",
       "      <th>0</th>\n",
       "      <td>17</td>\n",
       "      <td>Male</td>\n",
       "      <td>European-American/White</td>\n",
       "      <td>Willits</td>\n",
       "      <td>CA</td>\n",
       "      <td>39.470883</td>\n",
       "      <td>-123.361751</td>\n",
       "      <td>Mendocino County Sheriff's Office</td>\n",
       "      <td>Vehicle</td>\n",
       "      <td>Samuel Knapp was allegedly driving a stolen ve...</td>\n",
       "      <td>Unreported</td>\n",
       "      <td>Pursuit</td>\n",
       "      <td>No</td>\n",
       "      <td>2000</td>\n",
       "    </tr>\n",
       "    <tr>\n",
       "      <th>1</th>\n",
       "      <td>21</td>\n",
       "      <td>Male</td>\n",
       "      <td>African-American/Black</td>\n",
       "      <td>Detroit</td>\n",
       "      <td>MI</td>\n",
       "      <td>42.404526</td>\n",
       "      <td>-83.092274</td>\n",
       "      <td>NaN</td>\n",
       "      <td>Vehicle</td>\n",
       "      <td>Two Detroit men killed when their car crashed ...</td>\n",
       "      <td>Unreported</td>\n",
       "      <td>Pursuit</td>\n",
       "      <td>No</td>\n",
       "      <td>2000</td>\n",
       "    </tr>\n",
       "    <tr>\n",
       "      <th>2</th>\n",
       "      <td>19</td>\n",
       "      <td>Male</td>\n",
       "      <td>African-American/Black</td>\n",
       "      <td>Detroit</td>\n",
       "      <td>MI</td>\n",
       "      <td>42.404526</td>\n",
       "      <td>-83.092274</td>\n",
       "      <td>NaN</td>\n",
       "      <td>Vehicle</td>\n",
       "      <td>Two Detroit men killed when their car crashed ...</td>\n",
       "      <td>Unreported</td>\n",
       "      <td>Pursuit</td>\n",
       "      <td>No</td>\n",
       "      <td>2000</td>\n",
       "    </tr>\n",
       "    <tr>\n",
       "      <th>3</th>\n",
       "      <td>23</td>\n",
       "      <td>Male</td>\n",
       "      <td>Hispanic/Latino</td>\n",
       "      <td>Carlsbad</td>\n",
       "      <td>NM</td>\n",
       "      <td>32.450080</td>\n",
       "      <td>-104.237643</td>\n",
       "      <td>Eddy County Sheriff's Office</td>\n",
       "      <td>Vehicle</td>\n",
       "      <td>A motorcycle was allegedly being driven errati...</td>\n",
       "      <td>Unreported</td>\n",
       "      <td>Pursuit</td>\n",
       "      <td>No</td>\n",
       "      <td>2000</td>\n",
       "    </tr>\n",
       "    <tr>\n",
       "      <th>4</th>\n",
       "      <td>24</td>\n",
       "      <td>Female</td>\n",
       "      <td>African-American/Black</td>\n",
       "      <td>Sacramento</td>\n",
       "      <td>CA</td>\n",
       "      <td>38.473949</td>\n",
       "      <td>-121.433776</td>\n",
       "      <td>Sacramento Police Department</td>\n",
       "      <td>Vehicle</td>\n",
       "      <td>LaTanya Janelle McCoy's car was struck from be...</td>\n",
       "      <td>Unknown</td>\n",
       "      <td>Pursuit</td>\n",
       "      <td>No</td>\n",
       "      <td>2000</td>\n",
       "    </tr>\n",
       "    <tr>\n",
       "      <th>...</th>\n",
       "      <td>...</td>\n",
       "      <td>...</td>\n",
       "      <td>...</td>\n",
       "      <td>...</td>\n",
       "      <td>...</td>\n",
       "      <td>...</td>\n",
       "      <td>...</td>\n",
       "      <td>...</td>\n",
       "      <td>...</td>\n",
       "      <td>...</td>\n",
       "      <td>...</td>\n",
       "      <td>...</td>\n",
       "      <td>...</td>\n",
       "      <td>...</td>\n",
       "    </tr>\n",
       "    <tr>\n",
       "      <th>28617</th>\n",
       "      <td>44</td>\n",
       "      <td>Male</td>\n",
       "      <td>European-American/White</td>\n",
       "      <td>Blaine</td>\n",
       "      <td>MN</td>\n",
       "      <td>45.188123</td>\n",
       "      <td>-93.254570</td>\n",
       "      <td>Anoka County Sheriff's Office</td>\n",
       "      <td>Gunshot</td>\n",
       "      <td>Maksim Aleksandrovich Krechetov, 44, allegedly...</td>\n",
       "      <td>Suicide</td>\n",
       "      <td>Suicide</td>\n",
       "      <td>No</td>\n",
       "      <td>2020</td>\n",
       "    </tr>\n",
       "    <tr>\n",
       "      <th>28618</th>\n",
       "      <td>47</td>\n",
       "      <td>Female</td>\n",
       "      <td>European-American/White</td>\n",
       "      <td>Blaine</td>\n",
       "      <td>MN</td>\n",
       "      <td>45.188123</td>\n",
       "      <td>-93.254570</td>\n",
       "      <td>Anoka County Sheriff's Office</td>\n",
       "      <td>Gunshot</td>\n",
       "      <td>Maksim Aleksandrovich Krechetov, 44, allegedly...</td>\n",
       "      <td>Murder/suicide</td>\n",
       "      <td>No</td>\n",
       "      <td>No</td>\n",
       "      <td>2020</td>\n",
       "    </tr>\n",
       "    <tr>\n",
       "      <th>28619</th>\n",
       "      <td>14</td>\n",
       "      <td>Male</td>\n",
       "      <td>African-American/Black</td>\n",
       "      <td>Winston-Salem</td>\n",
       "      <td>NC</td>\n",
       "      <td>36.105468</td>\n",
       "      <td>-80.241174</td>\n",
       "      <td>Forsyth County Sheriffâ€™s Office</td>\n",
       "      <td>Vehicle</td>\n",
       "      <td>Deputies were following the car down Patterson...</td>\n",
       "      <td>Pending investigation</td>\n",
       "      <td>Pursuit</td>\n",
       "      <td>No</td>\n",
       "      <td>2020</td>\n",
       "    </tr>\n",
       "    <tr>\n",
       "      <th>28620</th>\n",
       "      <td>33</td>\n",
       "      <td>Male</td>\n",
       "      <td>European-American/White</td>\n",
       "      <td>Bon Aqua</td>\n",
       "      <td>TN</td>\n",
       "      <td>35.955288</td>\n",
       "      <td>-87.343450</td>\n",
       "      <td>Hickman County Sheriff's Office</td>\n",
       "      <td>Drowned</td>\n",
       "      <td>Police were seeking Danny Spence for charges t...</td>\n",
       "      <td>Pending investigation</td>\n",
       "      <td>No</td>\n",
       "      <td>No</td>\n",
       "      <td>2020</td>\n",
       "    </tr>\n",
       "    <tr>\n",
       "      <th>28621</th>\n",
       "      <td>NaN</td>\n",
       "      <td>NaN</td>\n",
       "      <td>NaN</td>\n",
       "      <td>NaN</td>\n",
       "      <td>NaN</td>\n",
       "      <td>NaN</td>\n",
       "      <td>NaN</td>\n",
       "      <td>NaN</td>\n",
       "      <td>NaN</td>\n",
       "      <td>NaN</td>\n",
       "      <td>NaN</td>\n",
       "      <td>NaN</td>\n",
       "      <td>NaN</td>\n",
       "      <td>2100</td>\n",
       "    </tr>\n",
       "  </tbody>\n",
       "</table>\n",
       "<p>28622 rows × 14 columns</p>\n",
       "</div>"
      ],
      "text/plain": [
       "       Age  Gender                Ethnicity Location of death (city)  \\\n",
       "0       17    Male  European-American/White                  Willits   \n",
       "1       21    Male   African-American/Black                  Detroit   \n",
       "2       19    Male   African-American/Black                  Detroit   \n",
       "3       23    Male          Hispanic/Latino                 Carlsbad   \n",
       "4       24  Female   African-American/Black               Sacramento   \n",
       "...    ...     ...                      ...                      ...   \n",
       "28617   44    Male  European-American/White                   Blaine   \n",
       "28618   47  Female  European-American/White                   Blaine   \n",
       "28619   14    Male   African-American/Black            Winston-Salem   \n",
       "28620   33    Male  European-American/White                 Bon Aqua   \n",
       "28621  NaN     NaN                      NaN                      NaN   \n",
       "\n",
       "      Location of death (state)   Latitude   Longitude  \\\n",
       "0                            CA  39.470883 -123.361751   \n",
       "1                            MI  42.404526  -83.092274   \n",
       "2                            MI  42.404526  -83.092274   \n",
       "3                            NM  32.450080 -104.237643   \n",
       "4                            CA  38.473949 -121.433776   \n",
       "...                         ...        ...         ...   \n",
       "28617                        MN  45.188123  -93.254570   \n",
       "28618                        MN  45.188123  -93.254570   \n",
       "28619                        NC  36.105468  -80.241174   \n",
       "28620                        TN  35.955288  -87.343450   \n",
       "28621                       NaN        NaN         NaN   \n",
       "\n",
       "            Agency responsible for death Cause of death  \\\n",
       "0      Mendocino County Sheriff's Office        Vehicle   \n",
       "1                                    NaN        Vehicle   \n",
       "2                                    NaN        Vehicle   \n",
       "3           Eddy County Sheriff's Office        Vehicle   \n",
       "4           Sacramento Police Department        Vehicle   \n",
       "...                                  ...            ...   \n",
       "28617      Anoka County Sheriff's Office        Gunshot   \n",
       "28618      Anoka County Sheriff's Office        Gunshot   \n",
       "28619  Forsyth County Sheriffâ€™s Office        Vehicle   \n",
       "28620    Hickman County Sheriff's Office        Drowned   \n",
       "28621                                NaN            NaN   \n",
       "\n",
       "      A brief description of the circumstances surrounding the death  \\\n",
       "0      Samuel Knapp was allegedly driving a stolen ve...               \n",
       "1      Two Detroit men killed when their car crashed ...               \n",
       "2      Two Detroit men killed when their car crashed ...               \n",
       "3      A motorcycle was allegedly being driven errati...               \n",
       "4      LaTanya Janelle McCoy's car was struck from be...               \n",
       "...                                                  ...               \n",
       "28617  Maksim Aleksandrovich Krechetov, 44, allegedly...               \n",
       "28618  Maksim Aleksandrovich Krechetov, 44, allegedly...               \n",
       "28619  Deputies were following the car down Patterson...               \n",
       "28620  Police were seeking Danny Spence for charges t...               \n",
       "28621                                                NaN               \n",
       "\n",
       "      Dispositions/Exclusions INTERNAL USE, NOT FOR ANALYSIS  \\\n",
       "0                                             Unreported       \n",
       "1                                             Unreported       \n",
       "2                                             Unreported       \n",
       "3                                             Unreported       \n",
       "4                                                Unknown       \n",
       "...                                                  ...       \n",
       "28617                                            Suicide       \n",
       "28618                                     Murder/suicide       \n",
       "28619                              Pending investigation       \n",
       "28620                              Pending investigation       \n",
       "28621                                                NaN       \n",
       "\n",
       "      Intentional Use of Force (Developing)  \\\n",
       "0                                   Pursuit   \n",
       "1                                   Pursuit   \n",
       "2                                   Pursuit   \n",
       "3                                   Pursuit   \n",
       "4                                   Pursuit   \n",
       "...                                     ...   \n",
       "28617                               Suicide   \n",
       "28618                                    No   \n",
       "28619                               Pursuit   \n",
       "28620                                    No   \n",
       "28621                                   NaN   \n",
       "\n",
       "      Symptoms of mental illness? INTERNAL USE, NOT FOR ANALYSIS  Date (Year)  \n",
       "0                                                     No                 2000  \n",
       "1                                                     No                 2000  \n",
       "2                                                     No                 2000  \n",
       "3                                                     No                 2000  \n",
       "4                                                     No                 2000  \n",
       "...                                                  ...                  ...  \n",
       "28617                                                 No                 2020  \n",
       "28618                                                 No                 2020  \n",
       "28619                                                 No                 2020  \n",
       "28620                                                 No                 2020  \n",
       "28621                                                NaN                 2100  \n",
       "\n",
       "[28622 rows x 14 columns]"
      ]
     },
     "execution_count": 3,
     "metadata": {},
     "output_type": "execute_result"
    }
   ],
   "source": [
    "crime_df.drop(columns=[\"Unique ID\", \"Name\",\"Race\", \"Location of death (county)\",\"Imputation probability\",\"URL of image of deceased\", \"Date of injury resulting in death (month/day/year)\",\"Location of death (zip code)\",\"Location of injury (address)\",\"Link to news article or photo of official document\",\"Full Address\",\"Link to news article or photo of official document\",\"Video\", \"Date&Description\",\"Unique ID formula\",\"Unique identifier (redundant)\"])\n"
   ]
  },
  {
   "cell_type": "code",
   "execution_count": 4,
   "id": "fc522140",
   "metadata": {},
   "outputs": [
    {
     "data": {
      "text/plain": [
       "22           920\n",
       "25           896\n",
       "24           864\n",
       "27           851\n",
       "23           849\n",
       "            ... \n",
       "7 months       1\n",
       "9 months       1\n",
       "6 months       1\n",
       "18 months      1\n",
       "70s            1\n",
       "Name: Age, Length: 117, dtype: int64"
      ]
     },
     "execution_count": 4,
     "metadata": {},
     "output_type": "execute_result"
    }
   ],
   "source": [
    "age = crime_df['Age'].value_counts()\n",
    "age"
   ]
  },
  {
   "cell_type": "code",
   "execution_count": 33,
   "id": "6b41e483",
   "metadata": {},
   "outputs": [
    {
     "data": {
      "text/plain": [
       "<AxesSubplot:>"
      ]
     },
     "execution_count": 33,
     "metadata": {},
     "output_type": "execute_result"
    },
    {
     "data": {
      "image/png": "[encoded data removed]",
      "text/plain": [
       "<Figure size 432x288 with 1 Axes>"
      ]
     },
     "metadata": {
      "needs_background": "light"
     },
     "output_type": "display_data"
    }
   ],
   "source": [
    "(\n",
    "    crime_df[\"Age\"]\n",
    "    .value_counts()\n",
    "    .head(35)\n",
    "    .plot(kind=\"bar\")\n",
    "    \n",
    ")"
   ]
  },
  {
   "cell_type": "code",
   "execution_count": 5,
   "id": "64fb8fc5",
   "metadata": {},
   "outputs": [
    {
     "data": {
      "text/plain": [
       "Male           25789\n",
       "Female          2713\n",
       "Transgender       19\n",
       "Name: Gender, dtype: int64"
      ]
     },
     "execution_count": 5,
     "metadata": {},
     "output_type": "execute_result"
    }
   ],
   "source": [
    "gender = crime_df['Gender'].value_counts()\n",
    "gender"
   ]
  },
  {
   "cell_type": "code",
   "execution_count": 6,
   "id": "582f6d6a",
   "metadata": {},
   "outputs": [
    {
     "data": {
      "text/plain": [
       "European-American/White    13693\n",
       "African-American/Black      7776\n",
       "Hispanic/Latino             4714\n",
       "Race unspecified            1407\n",
       "Asian/Pacific Islander       532\n",
       "Native American/Alaskan      277\n",
       "Middle Eastern                49\n",
       "Name: Ethnicity, dtype: int64"
      ]
     },
     "execution_count": 6,
     "metadata": {},
     "output_type": "execute_result"
    }
   ],
   "source": [
    "ethnicity = crime_df['Ethnicity'].value_counts()\n",
    "ethnicity"
   ]
  },
  {
   "cell_type": "code",
   "execution_count": 15,
   "id": "e40c6293",
   "metadata": {},
   "outputs": [
    {
     "data": {
      "text/plain": [
       "<AxesSubplot:>"
      ]
     },
     "execution_count": 15,
     "metadata": {},
     "output_type": "execute_result"
    },
    {
     "data": {
      "image/png": "[encoded data removed]",
      "text/plain": [
       "<Figure size 432x288 with 1 Axes>"
      ]
     },
     "metadata": {
      "needs_background": "light"
     },
     "output_type": "display_data"
    }
   ],
   "source": [
    "(\n",
    "    crime_df[\"Ethnicity\"]\n",
    "    .value_counts()\n",
    "    .plot(kind=\"bar\")\n",
    ")"
   ]
  },
  {
   "cell_type": "code",
   "execution_count": 7,
   "id": "336f39dd",
   "metadata": {},
   "outputs": [
    {
     "data": {
      "text/plain": [
       "Gunshot                              20292\n",
       "Vehicle                               5871\n",
       "Tasered                                917\n",
       "Medical emergency                      382\n",
       "Asphyxiated/Restrained                 278\n",
       "Drug overdose                          178\n",
       "Drowned                                176\n",
       "Beaten/Bludgeoned with instrument      175\n",
       "Undetermined                           103\n",
       "Fell from a height                      75\n",
       "Other                                   56\n",
       "Stabbed                                 48\n",
       "Chemical agent/Pepper spray             35\n",
       "Burned/Smoke inhalation                 35\n",
       "Name: Cause of death, dtype: int64"
      ]
     },
     "execution_count": 7,
     "metadata": {},
     "output_type": "execute_result"
    }
   ],
   "source": [
    "cause = crime_df['Cause of death'].value_counts()\n",
    "cause"
   ]
  },
  {
   "cell_type": "code",
   "execution_count": 14,
   "id": "11027b27",
   "metadata": {},
   "outputs": [
    {
     "data": {
      "text/plain": [
       "<AxesSubplot:>"
      ]
     },
     "execution_count": 14,
     "metadata": {},
     "output_type": "execute_result"
    },
    {
     "data": {
      "image/png": "[encoded data removed]",
      "text/plain": [
       "<Figure size 432x288 with 1 Axes>"
      ]
     },
     "metadata": {
      "needs_background": "light"
     },
     "output_type": "display_data"
    }
   ],
   "source": [
    "(\n",
    "    crime_df[\"Cause of death\"]\n",
    "    .value_counts()\n",
    "    .plot(kind=\"bar\")\n",
    ")"
   ]
  },
  {
   "cell_type": "code",
   "execution_count": 8,
   "id": "765a0381",
   "metadata": {},
   "outputs": [
    {
     "data": {
      "text/plain": [
       "2018    1852\n",
       "2019    1812\n",
       "2013    1784\n",
       "2017    1767\n",
       "2014    1717\n",
       "2015    1608\n",
       "2016    1598\n",
       "2012    1486\n",
       "2011    1408\n",
       "2010    1293\n",
       "2020    1290\n",
       "2006    1269\n",
       "2009    1257\n",
       "2007    1255\n",
       "2008    1210\n",
       "2005    1170\n",
       "2003    1052\n",
       "2004    1036\n",
       "2002     986\n",
       "2001     923\n",
       "2000     848\n",
       "2100       1\n",
       "Name: Date (Year), dtype: int64"
      ]
     },
     "execution_count": 8,
     "metadata": {},
     "output_type": "execute_result"
    }
   ],
   "source": [
    "year = crime_df['Date (Year)'].value_counts()\n",
    "year"
   ]
  },
  {
   "cell_type": "code",
   "execution_count": 17,
   "id": "c64959d4",
   "metadata": {},
   "outputs": [
    {
     "data": {
      "text/plain": [
       "<AxesSubplot:>"
      ]
     },
     "execution_count": 17,
     "metadata": {},
     "output_type": "execute_result"
    },
    {
     "data": {
      "image/png": "[encoded data removed]",
      "text/plain": [
       "<Figure size 432x288 with 1 Axes>"
      ]
     },
     "metadata": {
      "needs_background": "light"
     },
     "output_type": "display_data"
    }
   ],
   "source": [
    "(\n",
    "    crime_df[\"Date (Year)\"]\n",
    "    .value_counts()\n",
    "    .plot(kind=\"bar\")\n",
    ")"
   ]
  },
  {
   "cell_type": "code",
   "execution_count": 9,
   "id": "eb48baec",
   "metadata": {},
   "outputs": [
    {
     "data": {
      "text/plain": [
       "Intentional use of deadly force    17307\n",
       "Vehicle/Pursuit                     5428\n",
       "Suicide                             2969\n",
       "Yes                                 1659\n",
       "No                                   801\n",
       "Pursuit                              332\n",
       "Vehicle                               74\n",
       "Undetermined                          48\n",
       "Np                                     1\n",
       "Unknown                                1\n",
       "Intentional use of force               1\n",
       "Name: Intentional Use of Force (Developing), dtype: int64"
      ]
     },
     "execution_count": 9,
     "metadata": {},
     "output_type": "execute_result"
    }
   ],
   "source": [
    "intentions = crime_df['Intentional Use of Force (Developing)'].value_counts()\n",
    "intentions"
   ]
  },
  {
   "cell_type": "code",
   "execution_count": 18,
   "id": "634e27c0",
   "metadata": {},
   "outputs": [
    {
     "data": {
      "text/plain": [
       "<AxesSubplot:>"
      ]
     },
     "execution_count": 18,
     "metadata": {},
     "output_type": "execute_result"
    },
    {
     "data": {
      "image/png": "[encoded data removed]",
      "text/plain": [
       "<Figure size 432x288 with 1 Axes>"
      ]
     },
     "metadata": {
      "needs_background": "light"
     },
     "output_type": "display_data"
    }
   ],
   "source": [
    "(\n",
    "    crime_df['Intentional Use of Force (Developing)']\n",
    "    .value_counts()\n",
    "    .plot(kind=\"bar\")\n",
    ")"
   ]
  },
  {
   "cell_type": "code",
   "execution_count": 10,
   "id": "fd63a706",
   "metadata": {},
   "outputs": [
    {
     "data": {
      "text/plain": [
       "CA    4584\n",
       "TX    2527\n",
       "FL    1736\n",
       "GA    1075\n",
       "IL    1046\n",
       "OH     941\n",
       "PA     924\n",
       "MO     881\n",
       "MI     841\n",
       "AZ     830\n",
       "OK     661\n",
       "NY     647\n",
       "AL     635\n",
       "CO     625\n",
       "WA     619\n",
       "TN     618\n",
       "NC     600\n",
       "LA     598\n",
       "VA     590\n",
       "SC     546\n",
       "IN     533\n",
       "NJ     515\n",
       "MD     510\n",
       "WI     433\n",
       "MS     409\n",
       "KS     394\n",
       "NM     386\n",
       "KY     386\n",
       "NV     378\n",
       "AR     356\n",
       "MN     320\n",
       "OR     318\n",
       "IA     263\n",
       "UT     238\n",
       "NE     197\n",
       "MA     189\n",
       "WV     172\n",
       "ID     141\n",
       "CT     136\n",
       "AK     118\n",
       "HI     107\n",
       "MT      96\n",
       "ME      96\n",
       "DC      81\n",
       "DE      59\n",
       "WY      57\n",
       "SD      56\n",
       "NH      53\n",
       "VT      39\n",
       "ND      35\n",
       "RI      26\n",
       "Name: Location of death (state), dtype: int64"
      ]
     },
     "execution_count": 10,
     "metadata": {},
     "output_type": "execute_result"
    }
   ],
   "source": [
    "location = crime_df['Location of death (state)'].value_counts()\n",
    "location"
   ]
  },
  {
   "cell_type": "code",
   "execution_count": 26,
   "id": "48233a40",
   "metadata": {},
   "outputs": [
    {
     "data": {
      "text/plain": [
       "<AxesSubplot:>"
      ]
     },
     "execution_count": 26,
     "metadata": {},
     "output_type": "execute_result"
    },
    {
     "data": {
      "image/png": "[encoded data removed]",
      "text/plain": [
       "<Figure size 432x288 with 1 Axes>"
      ]
     },
     "metadata": {
      "needs_background": "light"
     },
     "output_type": "display_data"
    }
   ],
   "source": [
    "(\n",
    "    crime_df['Location of death (state)']\n",
    "    .value_counts()\n",
    "    .plot(kind=\"bar\")\n",
    ")"
   ]
  },
  {
   "cell_type": "code",
   "execution_count": 11,
   "id": "5fe872d2",
   "metadata": {},
   "outputs": [
    {
     "data": {
      "text/plain": [
       "<matplotlib.collections.PathCollection at 0x17677e91fa0>"
      ]
     },
     "execution_count": 11,
     "metadata": {},
     "output_type": "execute_result"
    },
    {
     "data": {
      "image/png": "[encoded data removed]",
      "text/plain": [
       "<Figure size 432x288 with 1 Axes>"
      ]
     },
     "metadata": {
      "needs_background": "light"
     },
     "output_type": "display_data"
    }
   ],
   "source": [
    "plt.scatter(x=crime_df['Longitude'], y=crime_df['Latitude'])"
   ]
  },
  {
   "cell_type": "code",
   "execution_count": null,
   "id": "45aa48fb",
   "metadata": {},
   "outputs": [],
   "source": []
  }
 ],
 "metadata": {
  "kernelspec": {
   "display_name": "PythonData",
   "language": "python",
   "name": "pythondata"
  },
  "language_info": {
   "codemirror_mode": {
    "name": "ipython",
    "version": 3
   },
   "file_extension": ".py",
   "mimetype": "text/x-python",
   "name": "python",
   "nbconvert_exporter": "python",
   "pygments_lexer": "ipython3",
   "version": "3.9.7"
  }
 },
 "nbformat": 4,
 "nbformat_minor": 5
}
