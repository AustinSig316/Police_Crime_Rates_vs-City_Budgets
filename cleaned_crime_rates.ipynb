{
 "cells": [
  {
   "cell_type": "code",
   "execution_count": 1,
   "id": "a5836ded",
   "metadata": {},
   "outputs": [],
   "source": [
    "import pandas as pd\n",
    "import matplotlib.pyplot as plt"
   ]
  },
  {
   "cell_type": "code",
   "execution_count": 2,
   "id": "e9c7a770",
   "metadata": {},
   "outputs": [],
   "source": [
    "clean_crime_df = pd.read_csv('Resources/clean_crime_rates.csv')"
   ]
  },
  {
   "cell_type": "code",
   "execution_count": 3,
   "id": "036a897f",
   "metadata": {},
   "outputs": [
    {
     "data": {
      "text/plain": [
       "Index(['Unnamed: 0', 'Age', 'Gender', 'Ethnicity', 'Location of death (city)',\n",
       "       'Location of death (state)', 'Latitude', 'Longitude',\n",
       "       'Agency responsible for death', 'Cause of death',\n",
       "       'A brief description of the circumstances surrounding the death',\n",
       "       'Dispositions/Exclusions INTERNAL USE, NOT FOR ANALYSIS',\n",
       "       'Intentional Use of Force (Developing)',\n",
       "       'Symptoms of mental illness? INTERNAL USE, NOT FOR ANALYSIS',\n",
       "       'Date (Year)'],\n",
       "      dtype='object')"
      ]
     },
     "execution_count": 3,
     "metadata": {},
     "output_type": "execute_result"
    }
   ],
   "source": [
    "clean_crime_df.columns"
   ]
  },
  {
   "cell_type": "code",
   "execution_count": 5,
   "id": "710a518a",
   "metadata": {},
   "outputs": [
    {
     "data": {
      "text/plain": [
       "22           920\n",
       "25           896\n",
       "24           864\n",
       "27           851\n",
       "23           849\n",
       "            ... \n",
       "7 months       1\n",
       "9 months       1\n",
       "6 months       1\n",
       "18 months      1\n",
       "70s            1\n",
       "Name: Age, Length: 117, dtype: int64"
      ]
     },
     "execution_count": 5,
     "metadata": {},
     "output_type": "execute_result"
    }
   ],
   "source": [
    "age = clean_crime_df['Age'].value_counts()\n",
    "age"
   ]
  },
  {
   "cell_type": "code",
   "execution_count": 6,
   "id": "8db9bffe",
   "metadata": {},
   "outputs": [
    {
     "data": {
      "text/plain": [
       "Text(0, 0.5, 'Count')"
      ]
     },
     "execution_count": 6,
     "metadata": {},
     "output_type": "execute_result"
    },
    {
     "data": {
      "image/png": "[encoded data removed]",
      "text/plain": [
       "<Figure size 432x288 with 1 Axes>"
      ]
     },
     "metadata": {
      "needs_background": "light"
     },
     "output_type": "display_data"
    }
   ],
   "source": [
    "clean_crime_df[\"Age\"].value_counts().head(35).plot(kind=\"bar\", title = \"Age Count\")\n",
    "plt.xticks(rotation=85)\n",
    "plt.xlabel('Age')\n",
    "plt.ylabel('Count')"
   ]
  },
  {
   "cell_type": "code",
   "execution_count": 7,
   "id": "23d04875",
   "metadata": {},
   "outputs": [
    {
     "data": {
      "text/plain": [
       "Male           25789\n",
       "Female          2713\n",
       "Transgender       19\n",
       "Name: Gender, dtype: int64"
      ]
     },
     "execution_count": 7,
     "metadata": {},
     "output_type": "execute_result"
    }
   ],
   "source": [
    "gender = clean_crime_df['Gender'].value_counts()\n",
    "gender"
   ]
  },
  {
   "cell_type": "code",
   "execution_count": 8,
   "id": "b655124e",
   "metadata": {},
   "outputs": [
    {
     "data": {
      "text/plain": [
       "European-American/White    13693\n",
       "African-American/Black      7776\n",
       "Hispanic/Latino             4714\n",
       "Race unspecified            1407\n",
       "Asian/Pacific Islander       532\n",
       "Native American/Alaskan      277\n",
       "Middle Eastern                49\n",
       "Name: Ethnicity, dtype: int64"
      ]
     },
     "execution_count": 8,
     "metadata": {},
     "output_type": "execute_result"
    }
   ],
   "source": [
    "ethnicity = clean_crime_df['Ethnicity'].value_counts()\n",
    "ethnicity"
   ]
  },
  {
   "cell_type": "code",
   "execution_count": 9,
   "id": "10b0d7b5",
   "metadata": {},
   "outputs": [
    {
     "data": {
      "image/png": "[encoded data removed]",
      "text/plain": [
       "<Figure size 1008x576 with 1 Axes>"
      ]
     },
     "metadata": {
      "needs_background": "light"
     },
     "output_type": "display_data"
    }
   ],
   "source": [
    "clean_crime_df['Ethnicity'].value_counts().plot(kind='barh',title = \"Ethniticty Count\" ,figsize=(14,8), legend= 1)\n",
    "plt.xlabel('Count')\n",
    "plt.ylabel('Ethnicity')\n",
    "plt.grid(axis='y')"
   ]
  },
  {
   "cell_type": "code",
   "execution_count": 10,
   "id": "7751b849",
   "metadata": {},
   "outputs": [
    {
     "data": {
      "text/plain": [
       "Gunshot                              20292\n",
       "Vehicle                               5871\n",
       "Tasered                                917\n",
       "Medical emergency                      382\n",
       "Asphyxiated/Restrained                 278\n",
       "Drug overdose                          178\n",
       "Drowned                                176\n",
       "Beaten/Bludgeoned with instrument      175\n",
       "Undetermined                           103\n",
       "Fell from a height                      75\n",
       "Other                                   56\n",
       "Stabbed                                 48\n",
       "Chemical agent/Pepper spray             35\n",
       "Burned/Smoke inhalation                 35\n",
       "Name: Cause of death, dtype: int64"
      ]
     },
     "execution_count": 10,
     "metadata": {},
     "output_type": "execute_result"
    }
   ],
   "source": [
    "cause = clean_crime_df['Cause of death'].value_counts()\n",
    "cause"
   ]
  },
  {
   "cell_type": "code",
   "execution_count": 11,
   "id": "b373c04d",
   "metadata": {},
   "outputs": [
    {
     "data": {
      "image/png": "[encoded data removed]",
      "text/plain": [
       "<Figure size 1008x576 with 1 Axes>"
      ]
     },
     "metadata": {
      "needs_background": "light"
     },
     "output_type": "display_data"
    }
   ],
   "source": [
    "clean_crime_df['Cause of death'].value_counts().plot(kind='barh',title = \"Causes of Death Count\" ,figsize=(14,8), legend= 1)\n",
    "plt.xlabel('Count')\n",
    "plt.ylabel('Cause of Death')\n",
    "plt.grid(axis='y')"
   ]
  },
  {
   "cell_type": "code",
   "execution_count": 12,
   "id": "c46f59be",
   "metadata": {},
   "outputs": [
    {
     "data": {
      "text/plain": [
       "<Figure size 432x288 with 0 Axes>"
      ]
     },
     "metadata": {},
     "output_type": "display_data"
    }
   ],
   "source": [
    "plt.savefig('cause of death.png')"
   ]
  },
  {
   "cell_type": "code",
   "execution_count": 13,
   "id": "59e4a02c",
   "metadata": {},
   "outputs": [
    {
     "data": {
      "text/plain": [
       "Intentional use of deadly force    17307\n",
       "Vehicle/Pursuit                     5428\n",
       "Suicide                             2969\n",
       "Yes                                 1659\n",
       "No                                   801\n",
       "Pursuit                              332\n",
       "Vehicle                               74\n",
       "Undetermined                          48\n",
       "Np                                     1\n",
       "Unknown                                1\n",
       "Intentional use of force               1\n",
       "Name: Intentional Use of Force (Developing), dtype: int64"
      ]
     },
     "execution_count": 13,
     "metadata": {},
     "output_type": "execute_result"
    }
   ],
   "source": [
    "intentions = clean_crime_df['Intentional Use of Force (Developing)'].value_counts()\n",
    "intentions"
   ]
  },
  {
   "cell_type": "code",
   "execution_count": 14,
   "id": "3c9069c5",
   "metadata": {},
   "outputs": [
    {
     "data": {
      "image/png": "[encoded data removed]",
      "text/plain": [
       "<Figure size 1008x576 with 1 Axes>"
      ]
     },
     "metadata": {
      "needs_background": "light"
     },
     "output_type": "display_data"
    }
   ],
   "source": [
    "clean_crime_df['Intentional Use of Force (Developing)'].value_counts().plot(kind='barh',title = \"Intentions Count\" ,figsize=(14,8), legend= 1)\n",
    "plt.xlabel('Count')\n",
    "plt.ylabel('Type of Force')\n",
    "plt.grid(axis='y')"
   ]
  },
  {
   "cell_type": "code",
   "execution_count": 15,
   "id": "c5ff8c20",
   "metadata": {},
   "outputs": [
    {
     "data": {
      "text/plain": [
       "CA    4584\n",
       "TX    2527\n",
       "FL    1736\n",
       "GA    1075\n",
       "IL    1046\n",
       "OH     941\n",
       "PA     924\n",
       "MO     881\n",
       "MI     841\n",
       "AZ     830\n",
       "OK     661\n",
       "NY     647\n",
       "AL     635\n",
       "CO     625\n",
       "WA     619\n",
       "TN     618\n",
       "NC     600\n",
       "LA     598\n",
       "VA     590\n",
       "SC     546\n",
       "IN     533\n",
       "NJ     515\n",
       "MD     510\n",
       "WI     433\n",
       "MS     409\n",
       "KS     394\n",
       "NM     386\n",
       "KY     386\n",
       "NV     378\n",
       "AR     356\n",
       "MN     320\n",
       "OR     318\n",
       "IA     263\n",
       "UT     238\n",
       "NE     197\n",
       "MA     189\n",
       "WV     172\n",
       "ID     141\n",
       "CT     136\n",
       "AK     118\n",
       "HI     107\n",
       "MT      96\n",
       "ME      96\n",
       "DC      81\n",
       "DE      59\n",
       "WY      57\n",
       "SD      56\n",
       "NH      53\n",
       "VT      39\n",
       "ND      35\n",
       "RI      26\n",
       "Name: Location of death (state), dtype: int64"
      ]
     },
     "execution_count": 15,
     "metadata": {},
     "output_type": "execute_result"
    }
   ],
   "source": [
    "location = clean_crime_df['Location of death (state)'].value_counts()\n",
    "location"
   ]
  },
  {
   "cell_type": "code",
   "execution_count": 16,
   "id": "b972f2c8",
   "metadata": {},
   "outputs": [
    {
     "data": {
      "image/png": "[encoded data removed]",
      "text/plain": [
       "<Figure size 1080x576 with 1 Axes>"
      ]
     },
     "metadata": {
      "needs_background": "light"
     },
     "output_type": "display_data"
    }
   ],
   "source": [
    "clean_crime_df['Location of death (state)'].value_counts().plot(kind='barh',title = \"State Counts\" ,figsize=(15,8), legend= 1)\n",
    "plt.xlabel('Count')\n",
    "plt.ylabel('State')\n",
    "plt.grid(axis='y')"
   ]
  },
  {
   "cell_type": "code",
   "execution_count": 17,
   "id": "a937f84f",
   "metadata": {},
   "outputs": [
    {
     "data": {
      "text/plain": [
       "2000     848\n",
       "2001     923\n",
       "2002     986\n",
       "2003    1052\n",
       "2004    1036\n",
       "2005    1170\n",
       "2006    1269\n",
       "2007    1255\n",
       "2008    1210\n",
       "2009    1257\n",
       "2010    1293\n",
       "2011    1408\n",
       "2012    1486\n",
       "2013    1784\n",
       "2014    1717\n",
       "2015    1608\n",
       "2016    1598\n",
       "2017    1767\n",
       "2018    1852\n",
       "2019    1812\n",
       "2020    1290\n",
       "Name: Date (Year), dtype: int64"
      ]
     },
     "execution_count": 17,
     "metadata": {},
     "output_type": "execute_result"
    }
   ],
   "source": [
    "year = clean_crime_df['Date (Year)'].value_counts().sort_index(ascending=True)\n",
    "year"
   ]
  },
  {
   "cell_type": "code",
   "execution_count": 18,
   "id": "f66b42fb",
   "metadata": {},
   "outputs": [
    {
     "data": {
      "text/plain": [
       "(array([ 0,  1,  2,  3,  4,  5,  6,  7,  8,  9, 10, 11, 12, 13, 14, 15, 16,\n",
       "        17, 18, 19, 20]),\n",
       " [Text(0, 0, '2000'),\n",
       "  Text(1, 0, '2001'),\n",
       "  Text(2, 0, '2002'),\n",
       "  Text(3, 0, '2003'),\n",
       "  Text(4, 0, '2004'),\n",
       "  Text(5, 0, '2005'),\n",
       "  Text(6, 0, '2006'),\n",
       "  Text(7, 0, '2007'),\n",
       "  Text(8, 0, '2008'),\n",
       "  Text(9, 0, '2009'),\n",
       "  Text(10, 0, '2010'),\n",
       "  Text(11, 0, '2011'),\n",
       "  Text(12, 0, '2012'),\n",
       "  Text(13, 0, '2013'),\n",
       "  Text(14, 0, '2014'),\n",
       "  Text(15, 0, '2015'),\n",
       "  Text(16, 0, '2016'),\n",
       "  Text(17, 0, '2017'),\n",
       "  Text(18, 0, '2018'),\n",
       "  Text(19, 0, '2019'),\n",
       "  Text(20, 0, '2020')])"
      ]
     },
     "execution_count": 18,
     "metadata": {},
     "output_type": "execute_result"
    },
    {
     "data": {
      "image/png": "[encoded data removed]",
      "text/plain": [
       "<Figure size 1008x576 with 1 Axes>"
      ]
     },
     "metadata": {
      "needs_background": "light"
     },
     "output_type": "display_data"
    }
   ],
   "source": [
    "clean_crime_df[\"Date (Year)\"].value_counts().sort_index(ascending=True).plot(kind='bar',title = \"Occurances from 2000-2020\" ,figsize=(14,8), legend= 1)\n",
    "plt.xlabel('Year')\n",
    "plt.ylabel('Count')\n",
    "plt.grid(axis='y')\n",
    "plt.xticks(rotation=0)"
   ]
  },
  {
   "cell_type": "code",
   "execution_count": 20,
   "id": "08fd0598",
   "metadata": {},
   "outputs": [
    {
     "data": {
      "text/plain": [
       "Unnamed: 0                                                          int64\n",
       "Age                                                                object\n",
       "Gender                                                              int64\n",
       "Ethnicity                                                          object\n",
       "Location of death (city)                                           object\n",
       "Location of death (state)                                          object\n",
       "Latitude                                                          float64\n",
       "Longitude                                                         float64\n",
       "Agency responsible for death                                       object\n",
       "Cause of death                                                     object\n",
       "A brief description of the circumstances surrounding the death     object\n",
       "Dispositions/Exclusions INTERNAL USE, NOT FOR ANALYSIS             object\n",
       "Intentional Use of Force (Developing)                              object\n",
       "Symptoms of mental illness? INTERNAL USE, NOT FOR ANALYSIS         object\n",
       "Date (Year)                                                         int64\n",
       "dtype: object"
      ]
     },
     "execution_count": 20,
     "metadata": {},
     "output_type": "execute_result"
    }
   ],
   "source": [
    "clean_crime_df.dtypes"
   ]
  },
  {
   "cell_type": "code",
   "execution_count": 19,
   "id": "b502e626",
   "metadata": {},
   "outputs": [
    {
     "data": {
      "text/html": [
       "<div>\n",
       "<style scoped>\n",
       "    .dataframe tbody tr th:only-of-type {\n",
       "        vertical-align: middle;\n",
       "    }\n",
       "\n",
       "    .dataframe tbody tr th {\n",
       "        vertical-align: top;\n",
       "    }\n",
       "\n",
       "    .dataframe thead th {\n",
       "        text-align: right;\n",
       "    }\n",
       "</style>\n",
       "<table border=\"1\" class=\"dataframe\">\n",
       "  <thead>\n",
       "    <tr style=\"text-align: right;\">\n",
       "      <th></th>\n",
       "      <th>Unnamed: 0</th>\n",
       "      <th>Age</th>\n",
       "      <th>Gender</th>\n",
       "      <th>Ethnicity</th>\n",
       "      <th>Location of death (city)</th>\n",
       "      <th>Location of death (state)</th>\n",
       "      <th>Latitude</th>\n",
       "      <th>Longitude</th>\n",
       "      <th>Agency responsible for death</th>\n",
       "      <th>Cause of death</th>\n",
       "      <th>A brief description of the circumstances surrounding the death</th>\n",
       "      <th>Dispositions/Exclusions INTERNAL USE, NOT FOR ANALYSIS</th>\n",
       "      <th>Intentional Use of Force (Developing)</th>\n",
       "      <th>Symptoms of mental illness? INTERNAL USE, NOT FOR ANALYSIS</th>\n",
       "      <th>Date (Year)</th>\n",
       "    </tr>\n",
       "  </thead>\n",
       "  <tbody>\n",
       "    <tr>\n",
       "      <th>0</th>\n",
       "      <td>0</td>\n",
       "      <td>17</td>\n",
       "      <td>1</td>\n",
       "      <td>European-American/White</td>\n",
       "      <td>Willits</td>\n",
       "      <td>CA</td>\n",
       "      <td>39.470883</td>\n",
       "      <td>-123.361751</td>\n",
       "      <td>Mendocino County Sheriff's Office</td>\n",
       "      <td>Vehicle</td>\n",
       "      <td>Samuel Knapp was allegedly driving a stolen ve...</td>\n",
       "      <td>Unreported</td>\n",
       "      <td>Pursuit</td>\n",
       "      <td>No</td>\n",
       "      <td>2000</td>\n",
       "    </tr>\n",
       "    <tr>\n",
       "      <th>1</th>\n",
       "      <td>1</td>\n",
       "      <td>21</td>\n",
       "      <td>1</td>\n",
       "      <td>African-American/Black</td>\n",
       "      <td>Detroit</td>\n",
       "      <td>MI</td>\n",
       "      <td>42.404526</td>\n",
       "      <td>-83.092274</td>\n",
       "      <td>NaN</td>\n",
       "      <td>Vehicle</td>\n",
       "      <td>Two Detroit men killed when their car crashed ...</td>\n",
       "      <td>Unreported</td>\n",
       "      <td>Pursuit</td>\n",
       "      <td>No</td>\n",
       "      <td>2000</td>\n",
       "    </tr>\n",
       "    <tr>\n",
       "      <th>2</th>\n",
       "      <td>2</td>\n",
       "      <td>19</td>\n",
       "      <td>1</td>\n",
       "      <td>African-American/Black</td>\n",
       "      <td>Detroit</td>\n",
       "      <td>MI</td>\n",
       "      <td>42.404526</td>\n",
       "      <td>-83.092274</td>\n",
       "      <td>NaN</td>\n",
       "      <td>Vehicle</td>\n",
       "      <td>Two Detroit men killed when their car crashed ...</td>\n",
       "      <td>Unreported</td>\n",
       "      <td>Pursuit</td>\n",
       "      <td>No</td>\n",
       "      <td>2000</td>\n",
       "    </tr>\n",
       "    <tr>\n",
       "      <th>3</th>\n",
       "      <td>3</td>\n",
       "      <td>23</td>\n",
       "      <td>1</td>\n",
       "      <td>Hispanic/Latino</td>\n",
       "      <td>Carlsbad</td>\n",
       "      <td>NM</td>\n",
       "      <td>32.450080</td>\n",
       "      <td>-104.237643</td>\n",
       "      <td>Eddy County Sheriff's Office</td>\n",
       "      <td>Vehicle</td>\n",
       "      <td>A motorcycle was allegedly being driven errati...</td>\n",
       "      <td>Unreported</td>\n",
       "      <td>Pursuit</td>\n",
       "      <td>No</td>\n",
       "      <td>2000</td>\n",
       "    </tr>\n",
       "    <tr>\n",
       "      <th>4</th>\n",
       "      <td>4</td>\n",
       "      <td>24</td>\n",
       "      <td>0</td>\n",
       "      <td>African-American/Black</td>\n",
       "      <td>Sacramento</td>\n",
       "      <td>CA</td>\n",
       "      <td>38.473949</td>\n",
       "      <td>-121.433776</td>\n",
       "      <td>Sacramento Police Department</td>\n",
       "      <td>Vehicle</td>\n",
       "      <td>LaTanya Janelle McCoy's car was struck from be...</td>\n",
       "      <td>Unknown</td>\n",
       "      <td>Pursuit</td>\n",
       "      <td>No</td>\n",
       "      <td>2000</td>\n",
       "    </tr>\n",
       "  </tbody>\n",
       "</table>\n",
       "</div>"
      ],
      "text/plain": [
       "   Unnamed: 0 Age  Gender                Ethnicity Location of death (city)  \\\n",
       "0           0  17       1  European-American/White                  Willits   \n",
       "1           1  21       1   African-American/Black                  Detroit   \n",
       "2           2  19       1   African-American/Black                  Detroit   \n",
       "3           3  23       1          Hispanic/Latino                 Carlsbad   \n",
       "4           4  24       0   African-American/Black               Sacramento   \n",
       "\n",
       "  Location of death (state)   Latitude   Longitude  \\\n",
       "0                        CA  39.470883 -123.361751   \n",
       "1                        MI  42.404526  -83.092274   \n",
       "2                        MI  42.404526  -83.092274   \n",
       "3                        NM  32.450080 -104.237643   \n",
       "4                        CA  38.473949 -121.433776   \n",
       "\n",
       "        Agency responsible for death Cause of death  \\\n",
       "0  Mendocino County Sheriff's Office        Vehicle   \n",
       "1                                NaN        Vehicle   \n",
       "2                                NaN        Vehicle   \n",
       "3       Eddy County Sheriff's Office        Vehicle   \n",
       "4       Sacramento Police Department        Vehicle   \n",
       "\n",
       "  A brief description of the circumstances surrounding the death  \\\n",
       "0  Samuel Knapp was allegedly driving a stolen ve...               \n",
       "1  Two Detroit men killed when their car crashed ...               \n",
       "2  Two Detroit men killed when their car crashed ...               \n",
       "3  A motorcycle was allegedly being driven errati...               \n",
       "4  LaTanya Janelle McCoy's car was struck from be...               \n",
       "\n",
       "  Dispositions/Exclusions INTERNAL USE, NOT FOR ANALYSIS  \\\n",
       "0                                         Unreported       \n",
       "1                                         Unreported       \n",
       "2                                         Unreported       \n",
       "3                                         Unreported       \n",
       "4                                            Unknown       \n",
       "\n",
       "  Intentional Use of Force (Developing)  \\\n",
       "0                               Pursuit   \n",
       "1                               Pursuit   \n",
       "2                               Pursuit   \n",
       "3                               Pursuit   \n",
       "4                               Pursuit   \n",
       "\n",
       "  Symptoms of mental illness? INTERNAL USE, NOT FOR ANALYSIS  Date (Year)  \n",
       "0                                                 No                 2000  \n",
       "1                                                 No                 2000  \n",
       "2                                                 No                 2000  \n",
       "3                                                 No                 2000  \n",
       "4                                                 No                 2000  "
      ]
     },
     "execution_count": 19,
     "metadata": {},
     "output_type": "execute_result"
    }
   ],
   "source": [
    "def change_string(gender):\n",
    "    if gender == \"Male\":\n",
    "        return 1\n",
    "    else:\n",
    "        return 0\n",
    "\n",
    "clean_crime_df[\"Gender\"] = clean_crime_df[\"Gender\"].apply(change_string)\n",
    "clean_crime_df.head()"
   ]
  },
  {
   "cell_type": "code",
   "execution_count": 21,
   "id": "26712028",
   "metadata": {},
   "outputs": [
    {
     "data": {
      "text/plain": [
       "Unnamed: 0                                                          int64\n",
       "Age                                                                object\n",
       "Gender                                                              int64\n",
       "Ethnicity                                                          object\n",
       "Location of death (city)                                           object\n",
       "Location of death (state)                                          object\n",
       "Latitude                                                          float64\n",
       "Longitude                                                         float64\n",
       "Agency responsible for death                                       object\n",
       "Cause of death                                                     object\n",
       "A brief description of the circumstances surrounding the death     object\n",
       "Dispositions/Exclusions INTERNAL USE, NOT FOR ANALYSIS             object\n",
       "Intentional Use of Force (Developing)                              object\n",
       "Symptoms of mental illness? INTERNAL USE, NOT FOR ANALYSIS         object\n",
       "Date (Year)                                                         int64\n",
       "dtype: object"
      ]
     },
     "execution_count": 21,
     "metadata": {},
     "output_type": "execute_result"
    }
   ],
   "source": [
    "clean_crime_df.dtypes"
   ]
  },
  {
   "cell_type": "code",
   "execution_count": null,
   "id": "ff3edca4",
   "metadata": {},
   "outputs": [],
   "source": []
  }
 ],
 "metadata": {
  "kernelspec": {
   "display_name": "PythonData",
   "language": "python",
   "name": "pythondata"
  },
  "language_info": {
   "codemirror_mode": {
    "name": "ipython",
    "version": 3
   },
   "file_extension": ".py",
   "mimetype": "text/x-python",
   "name": "python",
   "nbconvert_exporter": "python",
   "pygments_lexer": "ipython3",
   "version": "3.9.7"
  }
 },
 "nbformat": 4,
 "nbformat_minor": 5
}
