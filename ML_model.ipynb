{
 "cells": [
  {
   "cell_type": "code",
   "execution_count": 3,
   "id": "2c4b24de",
   "metadata": {},
   "outputs": [],
   "source": [
    "import pandas as pd\n",
    "from pathlib import Path\n",
    "import matplotlib.pyplot as plt\n",
    "from sklearn.linear_model import LinearRegression"
   ]
  },
  {
   "cell_type": "code",
   "execution_count": null,
   "id": "ffff5d41",
   "metadata": {},
   "outputs": [],
   "source": [
    "#import the data"
   ]
  },
  {
   "cell_type": "code",
   "execution_count": 2,
   "id": "f467d414",
   "metadata": {},
   "outputs": [],
   "source": [
    "#process police spending data into states - independent x variable"
   ]
  },
  {
   "cell_type": "code",
   "execution_count": 4,
   "id": "efb1d2c7",
   "metadata": {},
   "outputs": [],
   "source": [
    "#process crime rates by state - dependent y variable"
   ]
  },
  {
   "cell_type": "code",
   "execution_count": 5,
   "id": "8d7d3126",
   "metadata": {},
   "outputs": [],
   "source": [
    "#process state poverty rates - classes"
   ]
  },
  {
   "cell_type": "code",
   "execution_count": 6,
   "id": "b8af8aee",
   "metadata": {},
   "outputs": [],
   "source": [
    "#plot the data"
   ]
  },
  {
   "cell_type": "code",
   "execution_count": 7,
   "id": "09c46d8d",
   "metadata": {},
   "outputs": [],
   "source": [
    "#reshape the data"
   ]
  },
  {
   "cell_type": "code",
   "execution_count": 8,
   "id": "c7d0cc57",
   "metadata": {},
   "outputs": [],
   "source": [
    "#ML Model"
   ]
  },
  {
   "cell_type": "code",
   "execution_count": null,
   "id": "f6141a41",
   "metadata": {},
   "outputs": [],
   "source": [
    "#plot ML model vs data"
   ]
  }
 ],
 "metadata": {
  "kernelspec": {
   "display_name": "mlenv",
   "language": "python",
   "name": "mlenv"
  },
  "language_info": {
   "codemirror_mode": {
    "name": "ipython",
    "version": 3
   },
   "file_extension": ".py",
   "mimetype": "text/x-python",
   "name": "python",
   "nbconvert_exporter": "python",
   "pygments_lexer": "ipython3",
   "version": "3.7.11"
  }
 },
 "nbformat": 4,
 "nbformat_minor": 5
}
