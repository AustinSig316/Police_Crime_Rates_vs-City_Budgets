{
 "cells": [
  {
   "cell_type": "code",
<<<<<<< Updated upstream
   "execution_count": 3,
=======
   "execution_count": 1,
>>>>>>> Stashed changes
   "id": "2c4b24de",
   "metadata": {},
   "outputs": [],
   "source": [
    "import pandas as pd\n",
    "from pathlib import Path\n",
    "import matplotlib.pyplot as plt\n",
    "from sklearn.preprocessing import StandardScaler\n",
    "from sklearn.linear_model import LinearRegression"
   ]
  },
  {
   "cell_type": "code",
<<<<<<< Updated upstream
   "execution_count": null,
   "id": "ffff5d41",
   "metadata": {},
   "outputs": [],
=======
   "execution_count": 2,
   "id": "ffff5d41",
   "metadata": {},
   "outputs": [
    {
     "data": {
      "text/html": [
       "<div>\n",
       "<style scoped>\n",
       "    .dataframe tbody tr th:only-of-type {\n",
       "        vertical-align: middle;\n",
       "    }\n",
       "\n",
       "    .dataframe tbody tr th {\n",
       "        vertical-align: top;\n",
       "    }\n",
       "\n",
       "    .dataframe thead th {\n",
       "        text-align: right;\n",
       "    }\n",
       "</style>\n",
       "<table border=\"1\" class=\"dataframe\">\n",
       "  <thead>\n",
       "    <tr style=\"text-align: right;\">\n",
       "      <th></th>\n",
       "      <th>state</th>\n",
       "      <th>poverty_rate</th>\n",
       "      <th>police_spending_per_capita</th>\n",
       "      <th>crime_rate</th>\n",
       "    </tr>\n",
       "  </thead>\n",
       "  <tbody>\n",
       "    <tr>\n",
       "      <th>0</th>\n",
       "      <td>AL</td>\n",
       "      <td>15.6</td>\n",
       "      <td>261</td>\n",
       "      <td>0.000009</td>\n",
       "    </tr>\n",
       "    <tr>\n",
       "      <th>1</th>\n",
       "      <td>CA</td>\n",
       "      <td>11.8</td>\n",
       "      <td>487</td>\n",
       "      <td>0.000006</td>\n",
       "    </tr>\n",
       "    <tr>\n",
       "      <th>2</th>\n",
       "      <td>CO</td>\n",
       "      <td>9.4</td>\n",
       "      <td>330</td>\n",
       "      <td>0.000008</td>\n",
       "    </tr>\n",
       "    <tr>\n",
       "      <th>3</th>\n",
       "      <td>FL</td>\n",
       "      <td>12.7</td>\n",
       "      <td>406</td>\n",
       "      <td>0.000005</td>\n",
       "    </tr>\n",
       "    <tr>\n",
       "      <th>4</th>\n",
       "      <td>GA</td>\n",
       "      <td>13.5</td>\n",
       "      <td>262</td>\n",
       "      <td>0.000007</td>\n",
       "    </tr>\n",
       "  </tbody>\n",
       "</table>\n",
       "</div>"
      ],
      "text/plain": [
       "  state  poverty_rate  police_spending_per_capita  crime_rate\n",
       "0    AL          15.6                         261    0.000009\n",
       "1    CA          11.8                         487    0.000006\n",
       "2    CO           9.4                         330    0.000008\n",
       "3    FL          12.7                         406    0.000005\n",
       "4    GA          13.5                         262    0.000007"
      ]
     },
     "execution_count": 2,
     "metadata": {},
     "output_type": "execute_result"
    }
   ],
>>>>>>> Stashed changes
   "source": [
    "#import the data"
   ]
  },
  {
   "cell_type": "code",
<<<<<<< Updated upstream
   "execution_count": 2,
   "id": "f467d414",
=======
   "execution_count": 3,
   "id": "8d7d3126",
>>>>>>> Stashed changes
   "metadata": {},
   "outputs": [],
   "source": [
    "#process police spending data into states - independent x variable"
   ]
  },
  {
   "cell_type": "code",
   "execution_count": 4,
<<<<<<< Updated upstream
   "id": "efb1d2c7",
=======
   "id": "b8af8aee",
>>>>>>> Stashed changes
   "metadata": {},
   "outputs": [],
   "source": [
    "#process crime rates by state - dependent y variable"
   ]
  },
  {
   "cell_type": "code",
<<<<<<< Updated upstream
   "execution_count": 5,
   "id": "8d7d3126",
   "metadata": {},
   "outputs": [],
   "source": [
    "#process state poverty rates - classes"
   ]
  },
  {
   "cell_type": "code",
   "execution_count": 6,
   "id": "b8af8aee",
   "metadata": {},
   "outputs": [],
   "source": [
    "#plot the data"
=======
   "execution_count": 22,
   "id": "c7d0cc57",
   "metadata": {},
   "outputs": [
    {
     "data": {
      "text/plain": [
       "0.2417320618007257"
      ]
     },
     "execution_count": 22,
     "metadata": {},
     "output_type": "execute_result"
    }
   ],
   "source": [
    "#ML Model\n",
    "X = data.police_spending_per_capita.values.reshape(-1,1)\n",
    "y = data.crime_rate.values.reshape(-1,1)\n",
    "reg = LinearRegression().fit(X, y)\n",
    "reg.score(X, y)"
>>>>>>> Stashed changes
   ]
  },
  {
   "cell_type": "code",
<<<<<<< Updated upstream
   "execution_count": 7,
   "id": "09c46d8d",
   "metadata": {},
   "outputs": [],
=======
   "execution_count": 23,
   "id": "a0bf13d6",
   "metadata": {},
   "outputs": [
    {
     "name": "stdout",
     "output_type": "stream",
     "text": [
      "(12, 1)\n"
     ]
    }
   ],
>>>>>>> Stashed changes
   "source": [
    "#reshape the data"
   ]
  },
  {
   "cell_type": "code",
<<<<<<< Updated upstream
   "execution_count": 8,
   "id": "c7d0cc57",
=======
   "execution_count": 24,
   "id": "f6141a41",
>>>>>>> Stashed changes
   "metadata": {},
   "outputs": [],
   "source": [
    "#ML Model"
   ]
  },
  {
   "cell_type": "code",
   "execution_count": null,
   "id": "f6141a41",
   "metadata": {},
   "outputs": [],
   "source": [
    "#plot ML model vs data"
   ]
  }
 ],
 "metadata": {
  "kernelspec": {
   "display_name": "mlenv",
   "language": "python",
   "name": "mlenv"
  },
  "language_info": {
   "codemirror_mode": {
    "name": "ipython",
    "version": 3
   },
   "file_extension": ".py",
   "mimetype": "text/x-python",
   "name": "python",
   "nbconvert_exporter": "python",
   "pygments_lexer": "ipython3",
   "version": "3.7.11"
  }
 },
 "nbformat": 4,
 "nbformat_minor": 5
}
