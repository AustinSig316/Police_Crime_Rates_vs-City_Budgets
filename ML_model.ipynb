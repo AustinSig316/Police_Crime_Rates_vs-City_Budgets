{
 "cells": [
  {
   "cell_type": "code",
<<<<<<< HEAD
   "execution_count": 11,
=======
<<<<<<< Updated upstream
   "execution_count": 3,
=======
   "execution_count": 1,
>>>>>>> Stashed changes
>>>>>>> f6c95a9a0194ed36736f279b08a5fb5ffe64ba7b
   "id": "2c4b24de",
   "metadata": {},
   "outputs": [],
   "source": [
    "import pandas as pd\n",
    "from pathlib import Path\n",
    "import matplotlib.pyplot as plt\n",
    "from sklearn.preprocessing import StandardScaler\n",
    "from sklearn.linear_model import LinearRegression"
   ]
  },
  {
   "cell_type": "code",
<<<<<<< HEAD
   "execution_count": 12,
   "id": "ffff5d41",
   "metadata": {},
=======
<<<<<<< Updated upstream
   "execution_count": null,
   "id": "ffff5d41",
   "metadata": {},
   "outputs": [],
=======
   "execution_count": 2,
   "id": "ffff5d41",
   "metadata": {},
>>>>>>> f6c95a9a0194ed36736f279b08a5fb5ffe64ba7b
   "outputs": [
    {
     "data": {
      "text/html": [
       "<div>\n",
       "<style scoped>\n",
       "    .dataframe tbody tr th:only-of-type {\n",
       "        vertical-align: middle;\n",
       "    }\n",
       "\n",
       "    .dataframe tbody tr th {\n",
       "        vertical-align: top;\n",
       "    }\n",
       "\n",
       "    .dataframe thead th {\n",
       "        text-align: right;\n",
       "    }\n",
       "</style>\n",
       "<table border=\"1\" class=\"dataframe\">\n",
       "  <thead>\n",
       "    <tr style=\"text-align: right;\">\n",
       "      <th></th>\n",
       "      <th>state</th>\n",
       "      <th>poverty_rate</th>\n",
       "      <th>police_spending_per_capita</th>\n",
       "      <th>crime_rate</th>\n",
       "    </tr>\n",
       "  </thead>\n",
       "  <tbody>\n",
       "    <tr>\n",
       "      <th>0</th>\n",
       "      <td>AL</td>\n",
       "      <td>15.6</td>\n",
       "      <td>261</td>\n",
       "      <td>0.000009</td>\n",
       "    </tr>\n",
       "    <tr>\n",
       "      <th>1</th>\n",
       "      <td>CA</td>\n",
       "      <td>11.8</td>\n",
       "      <td>487</td>\n",
       "      <td>0.000006</td>\n",
       "    </tr>\n",
       "    <tr>\n",
       "      <th>2</th>\n",
       "      <td>CO</td>\n",
       "      <td>9.4</td>\n",
       "      <td>330</td>\n",
       "      <td>0.000008</td>\n",
       "    </tr>\n",
       "    <tr>\n",
       "      <th>3</th>\n",
       "      <td>FL</td>\n",
       "      <td>12.7</td>\n",
       "      <td>406</td>\n",
       "      <td>0.000005</td>\n",
       "    </tr>\n",
       "    <tr>\n",
       "      <th>4</th>\n",
       "      <td>GA</td>\n",
       "      <td>13.5</td>\n",
       "      <td>262</td>\n",
       "      <td>0.000007</td>\n",
       "    </tr>\n",
       "  </tbody>\n",
       "</table>\n",
       "</div>"
      ],
      "text/plain": [
       "  state  poverty_rate  police_spending_per_capita  crime_rate\n",
       "0    AL          15.6                         261    0.000009\n",
       "1    CA          11.8                         487    0.000006\n",
       "2    CO           9.4                         330    0.000008\n",
       "3    FL          12.7                         406    0.000005\n",
       "4    GA          13.5                         262    0.000007"
      ]
     },
<<<<<<< HEAD
     "execution_count": 12,
=======
     "execution_count": 2,
>>>>>>> f6c95a9a0194ed36736f279b08a5fb5ffe64ba7b
     "metadata": {},
     "output_type": "execute_result"
    }
   ],
<<<<<<< HEAD
=======
>>>>>>> Stashed changes
>>>>>>> f6c95a9a0194ed36736f279b08a5fb5ffe64ba7b
   "source": [
    "#import the data\n",
    "data = pd.read_csv(\"Resources/state_totals.csv\")\n",
    "data.head()"
   ]
  },
  {
   "cell_type": "code",
<<<<<<< HEAD
   "execution_count": null,
   "id": "8d7d3126",
=======
<<<<<<< Updated upstream
   "execution_count": 2,
   "id": "f467d414",
=======
   "execution_count": 3,
   "id": "8d7d3126",
>>>>>>> Stashed changes
   "metadata": {},
   "outputs": [],
   "source": [
    "#process police spending data into states - independent x variable"
   ]
  },
  {
   "cell_type": "code",
   "execution_count": 4,
<<<<<<< Updated upstream
   "id": "efb1d2c7",
=======
   "id": "b8af8aee",
>>>>>>> Stashed changes
>>>>>>> f6c95a9a0194ed36736f279b08a5fb5ffe64ba7b
   "metadata": {},
   "outputs": [],
   "source": [
    "#process state poverty rates - classes"
   ]
  },
  {
   "cell_type": "code",
<<<<<<< HEAD
   "execution_count": 13,
   "id": "b8af8aee",
=======
<<<<<<< Updated upstream
   "execution_count": 5,
   "id": "8d7d3126",
>>>>>>> f6c95a9a0194ed36736f279b08a5fb5ffe64ba7b
   "metadata": {},
   "outputs": [
    {
     "data": {
      "image/png": "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\n",
      "text/plain": [
       "<Figure size 432x288 with 1 Axes>"
      ]
     },
     "metadata": {
      "needs_background": "light"
     },
     "output_type": "display_data"
    }
   ],
   "source": [
    "#plot the data\n",
    "plt.scatter(data.police_spending_per_capita, data.crime_rate)\n",
    "plt.xlabel('Police Spending Per Capita')\n",
    "plt.ylabel('Crimerate Per Capita')\n",
    "plt.show()"
   ]
  },
  {
   "cell_type": "code",
   "execution_count": 20,
   "id": "c7d0cc57",
   "metadata": {},
   "outputs": [
    {
     "data": {
      "text/plain": [
       "0.2417320618007257"
      ]
     },
     "execution_count": 20,
     "metadata": {},
     "output_type": "execute_result"
    }
   ],
   "source": [
<<<<<<< HEAD
    "#ML Model\n",
    "X = data.police_spending_per_capita.values.reshape(-1,1)\n",
    "y = data.crime_rate\n",
    "reg = LinearRegression().fit(X, y)\n",
    "reg.score(X, y)"
=======
    "#plot the data"
=======
   "execution_count": 22,
   "id": "c7d0cc57",
   "metadata": {},
   "outputs": [
    {
     "data": {
      "text/plain": [
       "0.2417320618007257"
      ]
     },
     "execution_count": 22,
     "metadata": {},
     "output_type": "execute_result"
    }
   ],
   "source": [
    "#ML Model\n",
    "X = data.police_spending_per_capita.values.reshape(-1,1)\n",
    "y = data.crime_rate.values.reshape(-1,1)\n",
    "reg = LinearRegression().fit(X, y)\n",
    "reg.score(X, y)"
>>>>>>> Stashed changes
>>>>>>> f6c95a9a0194ed36736f279b08a5fb5ffe64ba7b
   ]
  },
  {
   "cell_type": "code",
<<<<<<< HEAD
   "execution_count": 19,
   "id": "a0bf13d6",
   "metadata": {},
=======
<<<<<<< Updated upstream
   "execution_count": 7,
   "id": "09c46d8d",
   "metadata": {},
   "outputs": [],
=======
   "execution_count": 23,
   "id": "a0bf13d6",
   "metadata": {},
>>>>>>> f6c95a9a0194ed36736f279b08a5fb5ffe64ba7b
   "outputs": [
    {
     "name": "stdout",
     "output_type": "stream",
     "text": [
<<<<<<< HEAD
      "(12,)\n"
     ]
    }
   ],
=======
      "(12, 1)\n"
     ]
    }
   ],
>>>>>>> Stashed changes
>>>>>>> f6c95a9a0194ed36736f279b08a5fb5ffe64ba7b
   "source": [
    "y_pred = reg.predict(X)\n",
    "print(y_pred.shape)"
   ]
  },
  {
   "cell_type": "code",
<<<<<<< HEAD
   "execution_count": 21,
   "id": "f6141a41",
=======
<<<<<<< Updated upstream
   "execution_count": 8,
   "id": "c7d0cc57",
=======
   "execution_count": 24,
   "id": "f6141a41",
>>>>>>> Stashed changes
>>>>>>> f6c95a9a0194ed36736f279b08a5fb5ffe64ba7b
   "metadata": {},
   "outputs": [
    {
     "data": {
      "image/png": "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\n",
      "text/plain": [
       "<Figure size 432x288 with 1 Axes>"
      ]
     },
     "metadata": {
      "needs_background": "light"
     },
     "output_type": "display_data"
    }
   ],
   "source": [
    "#plot ML model vs data\n",
    "plt.scatter(X, y)\n",
    "plt.plot(X, y_pred, color=\"red\")\n",
    "plt.show()"
   ]
  },
  {
   "cell_type": "code",
   "execution_count": null,
   "id": "137378c1",
   "metadata": {},
   "outputs": [],
   "source": []
  }
 ],
 "metadata": {
  "kernelspec": {
   "display_name": "mlenv",
   "language": "python",
   "name": "mlenv"
  },
  "language_info": {
   "codemirror_mode": {
    "name": "ipython",
    "version": 3
   },
   "file_extension": ".py",
   "mimetype": "text/x-python",
   "name": "python",
   "nbconvert_exporter": "python",
   "pygments_lexer": "ipython3",
   "version": "3.9.7"
  }
 },
 "nbformat": 4,
 "nbformat_minor": 5
}
