{
 "cells": [
  {
   "cell_type": "code",
   "execution_count": 8,
   "id": "48ae083c",
   "metadata": {},
   "outputs": [],
   "source": [
    "import pandas as pd\n",
    "from pathlib import Path\n",
    "import matplotlib.pyplot as plt\n",
    "from sklearn.linear_model import LinearRegression"
   ]
  },
  {
   "cell_type": "code",
   "execution_count": 9,
   "id": "fa1dbcb2",
   "metadata": {},
   "outputs": [],
   "source": [
    "import warnings\n",
    "warnings.filterwarnings('ignore')"
   ]
  },
  {
   "cell_type": "code",
   "execution_count": 13,
   "id": "f0058340",
   "metadata": {},
   "outputs": [
    {
     "data": {
      "text/html": [
       "<div>\n",
       "<style scoped>\n",
       "    .dataframe tbody tr th:only-of-type {\n",
       "        vertical-align: middle;\n",
       "    }\n",
       "\n",
       "    .dataframe tbody tr th {\n",
       "        vertical-align: top;\n",
       "    }\n",
       "\n",
       "    .dataframe thead th {\n",
       "        text-align: right;\n",
       "    }\n",
       "</style>\n",
       "<table border=\"1\" class=\"dataframe\">\n",
       "  <thead>\n",
       "    <tr style=\"text-align: right;\">\n",
       "      <th></th>\n",
       "      <th>County</th>\n",
       "      <th>State</th>\n",
       "      <th>Population</th>\n",
       "      <th>Murder</th>\n",
       "      <th>Rape ^</th>\n",
       "      <th>Robbery</th>\n",
       "      <th>Aggravated Assault^^</th>\n",
       "      <th>Burglary</th>\n",
       "      <th>Violent crime total</th>\n",
       "      <th>Larceny</th>\n",
       "      <th>Motor Vehicle Theft</th>\n",
       "      <th>2019 Total Index</th>\n",
       "      <th>% Index Change 18/19*</th>\n",
       "      <th>Index Rate Per 100,000</th>\n",
       "      <th>Rate Change 18/19*</th>\n",
       "      <th>Spending</th>\n",
       "      <th>Poverty</th>\n",
       "    </tr>\n",
       "  </thead>\n",
       "  <tbody>\n",
       "    <tr>\n",
       "      <th>0</th>\n",
       "      <td>Alachua County</td>\n",
       "      <td>Florida</td>\n",
       "      <td>267,306</td>\n",
       "      <td>6</td>\n",
       "      <td>282</td>\n",
       "      <td>293</td>\n",
       "      <td>1,184</td>\n",
       "      <td>1,008</td>\n",
       "      <td>1,472</td>\n",
       "      <td>5,643</td>\n",
       "      <td>594</td>\n",
       "      <td>9,010</td>\n",
       "      <td>-7.7</td>\n",
       "      <td>3,370.70</td>\n",
       "      <td>-9.1</td>\n",
       "      <td>$114.29</td>\n",
       "      <td>38.8</td>\n",
       "    </tr>\n",
       "    <tr>\n",
       "      <th>1</th>\n",
       "      <td>Baker County</td>\n",
       "      <td>Florida</td>\n",
       "      <td>28,249</td>\n",
       "      <td>0</td>\n",
       "      <td>14</td>\n",
       "      <td>7</td>\n",
       "      <td>100</td>\n",
       "      <td>63</td>\n",
       "      <td>114</td>\n",
       "      <td>181</td>\n",
       "      <td>31</td>\n",
       "      <td>396</td>\n",
       "      <td>3.4</td>\n",
       "      <td>1,401.80</td>\n",
       "      <td>1.2</td>\n",
       "      <td>$191.06</td>\n",
       "      <td>32.8</td>\n",
       "    </tr>\n",
       "    <tr>\n",
       "      <th>2</th>\n",
       "      <td>Bay County</td>\n",
       "      <td>Florida</td>\n",
       "      <td>167,283</td>\n",
       "      <td>8</td>\n",
       "      <td>91</td>\n",
       "      <td>103</td>\n",
       "      <td>624</td>\n",
       "      <td>1,097</td>\n",
       "      <td>723</td>\n",
       "      <td>4,139</td>\n",
       "      <td>471</td>\n",
       "      <td>6,533</td>\n",
       "      <td>-3.0</td>\n",
       "      <td>3,905.40</td>\n",
       "      <td>5.1</td>\n",
       "      <td>$225.46</td>\n",
       "      <td>33.6</td>\n",
       "    </tr>\n",
       "    <tr>\n",
       "      <th>3</th>\n",
       "      <td>Bradford County</td>\n",
       "      <td>Florida</td>\n",
       "      <td>28,682</td>\n",
       "      <td>1</td>\n",
       "      <td>12</td>\n",
       "      <td>6</td>\n",
       "      <td>93</td>\n",
       "      <td>98</td>\n",
       "      <td>106</td>\n",
       "      <td>311</td>\n",
       "      <td>34</td>\n",
       "      <td>555</td>\n",
       "      <td>14.2</td>\n",
       "      <td>1,935.00</td>\n",
       "      <td>13.4</td>\n",
       "      <td>$190.57</td>\n",
       "      <td>41.4</td>\n",
       "    </tr>\n",
       "    <tr>\n",
       "      <th>4</th>\n",
       "      <td>Brevard County</td>\n",
       "      <td>Florida</td>\n",
       "      <td>594,469</td>\n",
       "      <td>23</td>\n",
       "      <td>262</td>\n",
       "      <td>332</td>\n",
       "      <td>1,607</td>\n",
       "      <td>2,019</td>\n",
       "      <td>1,892</td>\n",
       "      <td>9,322</td>\n",
       "      <td>928</td>\n",
       "      <td>14,493</td>\n",
       "      <td>-3.2</td>\n",
       "      <td>2,438.00</td>\n",
       "      <td>-5.0</td>\n",
       "      <td>$130.25</td>\n",
       "      <td>30.2</td>\n",
       "    </tr>\n",
       "  </tbody>\n",
       "</table>\n",
       "</div>"
      ],
      "text/plain": [
       "            County    State Population  Murder  Rape ^ Robbery  \\\n",
       "0   Alachua County  Florida    267,306       6     282     293   \n",
       "1     Baker County  Florida     28,249       0      14       7   \n",
       "2       Bay County  Florida    167,283       8      91     103   \n",
       "3  Bradford County  Florida     28,682       1      12       6   \n",
       "4   Brevard County  Florida    594,469      23     262     332   \n",
       "\n",
       "  Aggravated Assault^^ Burglary Violent crime total Larceny  \\\n",
       "0                1,184    1,008               1,472   5,643   \n",
       "1                  100       63                 114     181   \n",
       "2                  624    1,097                 723   4,139   \n",
       "3                   93       98                 106     311   \n",
       "4                1,607    2,019               1,892   9,322   \n",
       "\n",
       "  Motor Vehicle Theft 2019 Total Index  % Index Change 18/19*  \\\n",
       "0                 594            9,010                   -7.7   \n",
       "1                  31              396                    3.4   \n",
       "2                 471            6,533                   -3.0   \n",
       "3                  34              555                   14.2   \n",
       "4                 928           14,493                   -3.2   \n",
       "\n",
       "  Index Rate Per 100,000  Rate Change 18/19*  Spending  Poverty  \n",
       "0               3,370.70                -9.1  $114.29      38.8  \n",
       "1               1,401.80                 1.2  $191.06      32.8  \n",
       "2               3,905.40                 5.1  $225.46      33.6  \n",
       "3               1,935.00                13.4  $190.57      41.4  \n",
       "4               2,438.00                -5.0  $130.25      30.2  "
      ]
     },
     "execution_count": 13,
     "metadata": {},
     "output_type": "execute_result"
    }
   ],
   "source": [
    "df = pd.read_csv(Path(r\"C:\\Users\\Gaming PC\\Desktop\\Police_Crime_Rates_vs-City_Budgets\\Resources\\combined_data.csv\"))\n",
    "df.head()"
   ]
  },
  {
   "cell_type": "code",
   "execution_count": 16,
   "id": "f2681fe2",
   "metadata": {},
   "outputs": [
    {
     "ename": "AttributeError",
     "evalue": "'DataFrame' object has no attribute 'Povery'",
     "output_type": "error",
     "traceback": [
      "\u001b[1;31m---------------------------------------------------------------------------\u001b[0m",
      "\u001b[1;31mAttributeError\u001b[0m                            Traceback (most recent call last)",
      "\u001b[1;32mC:\\Users\\GAMING~1\\AppData\\Local\\Temp/ipykernel_2732/152472783.py\u001b[0m in \u001b[0;36m<module>\u001b[1;34m\u001b[0m\n\u001b[1;32m----> 1\u001b[1;33m \u001b[0mplt\u001b[0m\u001b[1;33m.\u001b[0m\u001b[0mscatter\u001b[0m\u001b[1;33m(\u001b[0m\u001b[0mdf\u001b[0m\u001b[1;33m.\u001b[0m\u001b[0mPovery\u001b[0m\u001b[1;33m,\u001b[0m \u001b[0mdf\u001b[0m\u001b[1;33m.\u001b[0m\u001b[0mSpending\u001b[0m\u001b[1;33m)\u001b[0m\u001b[1;33m\u001b[0m\u001b[1;33m\u001b[0m\u001b[0m\n\u001b[0m\u001b[0;32m      2\u001b[0m \u001b[0mplt\u001b[0m\u001b[1;33m.\u001b[0m\u001b[0mxlabel\u001b[0m\u001b[1;33m(\u001b[0m\u001b[1;34m'Poverty Rate'\u001b[0m\u001b[1;33m)\u001b[0m\u001b[1;33m\u001b[0m\u001b[1;33m\u001b[0m\u001b[0m\n\u001b[0;32m      3\u001b[0m \u001b[0mplt\u001b[0m\u001b[1;33m.\u001b[0m\u001b[0mylabel\u001b[0m\u001b[1;33m(\u001b[0m\u001b[1;34m'Police Spending Per Capita'\u001b[0m\u001b[1;33m)\u001b[0m\u001b[1;33m\u001b[0m\u001b[1;33m\u001b[0m\u001b[0m\n\u001b[0;32m      4\u001b[0m \u001b[0mplt\u001b[0m\u001b[1;33m.\u001b[0m\u001b[0mshow\u001b[0m\u001b[1;33m(\u001b[0m\u001b[1;33m)\u001b[0m\u001b[1;33m\u001b[0m\u001b[1;33m\u001b[0m\u001b[0m\n",
      "\u001b[1;32m~\\anaconda3\\lib\\site-packages\\pandas\\core\\generic.py\u001b[0m in \u001b[0;36m__getattr__\u001b[1;34m(self, name)\u001b[0m\n\u001b[0;32m   5485\u001b[0m         ):\n\u001b[0;32m   5486\u001b[0m             \u001b[1;32mreturn\u001b[0m \u001b[0mself\u001b[0m\u001b[1;33m[\u001b[0m\u001b[0mname\u001b[0m\u001b[1;33m]\u001b[0m\u001b[1;33m\u001b[0m\u001b[1;33m\u001b[0m\u001b[0m\n\u001b[1;32m-> 5487\u001b[1;33m         \u001b[1;32mreturn\u001b[0m \u001b[0mobject\u001b[0m\u001b[1;33m.\u001b[0m\u001b[0m__getattribute__\u001b[0m\u001b[1;33m(\u001b[0m\u001b[0mself\u001b[0m\u001b[1;33m,\u001b[0m \u001b[0mname\u001b[0m\u001b[1;33m)\u001b[0m\u001b[1;33m\u001b[0m\u001b[1;33m\u001b[0m\u001b[0m\n\u001b[0m\u001b[0;32m   5488\u001b[0m \u001b[1;33m\u001b[0m\u001b[0m\n\u001b[0;32m   5489\u001b[0m     \u001b[1;32mdef\u001b[0m \u001b[0m__setattr__\u001b[0m\u001b[1;33m(\u001b[0m\u001b[0mself\u001b[0m\u001b[1;33m,\u001b[0m \u001b[0mname\u001b[0m\u001b[1;33m:\u001b[0m \u001b[0mstr\u001b[0m\u001b[1;33m,\u001b[0m \u001b[0mvalue\u001b[0m\u001b[1;33m)\u001b[0m \u001b[1;33m->\u001b[0m \u001b[1;32mNone\u001b[0m\u001b[1;33m:\u001b[0m\u001b[1;33m\u001b[0m\u001b[1;33m\u001b[0m\u001b[0m\n",
      "\u001b[1;31mAttributeError\u001b[0m: 'DataFrame' object has no attribute 'Povery'"
     ]
    }
   ],
   "source": [
    "plt.scatter(df.Povery, df.Spending)\n",
    "plt.xlabel('Poverty Rate')\n",
    "plt.ylabel('Police Spending Per Capita')\n",
    "plt.show()"
   ]
  },
  {
   "cell_type": "code",
   "execution_count": null,
   "id": "030c9601",
   "metadata": {},
   "outputs": [],
   "source": [
    "X = df.Povery.values.reshape(-1, 1)"
   ]
  },
  {
   "cell_type": "code",
   "execution_count": null,
   "id": "b7e0f936",
   "metadata": {},
   "outputs": [],
   "source": [
    "y = df.Spending"
   ]
  },
  {
   "cell_type": "code",
   "execution_count": null,
   "id": "6ca8bf17",
   "metadata": {},
   "outputs": [],
   "source": [
    "model = LinearRegression()"
   ]
  },
  {
   "cell_type": "code",
   "execution_count": null,
   "id": "6fa74a02",
   "metadata": {},
   "outputs": [],
   "source": [
    "model.fit(X, y)"
   ]
  },
  {
   "cell_type": "code",
   "execution_count": null,
   "id": "32e954cc",
   "metadata": {},
   "outputs": [],
   "source": [
    "y_pred = model.predict(X)\n",
    "print(y_pred.shape)"
   ]
  },
  {
   "cell_type": "code",
   "execution_count": null,
   "id": "b25fcdde",
   "metadata": {},
   "outputs": [],
   "source": [
    "plt.scatter(X, y)\n",
    "plt.plot(X, y_pred, color='red')\n",
    "plt.show()"
   ]
  },
  {
   "cell_type": "code",
   "execution_count": null,
   "id": "a490e294",
   "metadata": {},
   "outputs": [],
   "source": [
    "print(model.coef_)\n",
    "print(model.intercept_)"
   ]
  },
  {
   "cell_type": "code",
   "execution_count": null,
   "id": "a992c07e",
   "metadata": {},
   "outputs": [],
   "source": []
  }
 ],
 "metadata": {
  "kernelspec": {
   "display_name": "PythonData",
   "language": "python",
   "name": "pythondata"
  },
  "language_info": {
   "codemirror_mode": {
    "name": "ipython",
    "version": 3
   },
   "file_extension": ".py",
   "mimetype": "text/x-python",
   "name": "python",
   "nbconvert_exporter": "python",
   "pygments_lexer": "ipython3",
   "version": "3.9.7"
  }
 },
 "nbformat": 4,
 "nbformat_minor": 5
}
